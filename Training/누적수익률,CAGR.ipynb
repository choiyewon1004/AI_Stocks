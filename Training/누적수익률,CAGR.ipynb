{
 "cells": [
  {
   "cell_type": "code",
   "execution_count": 3,
   "id": "014def94",
   "metadata": {},
   "outputs": [],
   "source": [
    "import FinanceDataReader as fdr\n",
    "import matplotlib.pyplot as plt"
   ]
  },
  {
   "cell_type": "markdown",
   "id": "9530d97c",
   "metadata": {},
   "source": [
    "# 1.3 누적수익률\n",
    "- 11월에 사서 4월에 파는 전략"
   ]
  },
  {
   "cell_type": "code",
   "execution_count": 4,
   "id": "13733a6f",
   "metadata": {},
   "outputs": [
    {
     "name": "stderr",
     "output_type": "stream",
     "text": [
      "C:\\Users\\esthe\\anaconda3\\lib\\site-packages\\FinanceDataReader\\data.py:47: FutureWarning: The frame.append method is deprecated and will be removed from pandas in a future version. Use pandas.concat instead.\n",
      "  df = df.append(more)\n"
     ]
    },
    {
     "data": {
      "text/html": [
       "<div>\n",
       "<style scoped>\n",
       "    .dataframe tbody tr th:only-of-type {\n",
       "        vertical-align: middle;\n",
       "    }\n",
       "\n",
       "    .dataframe tbody tr th {\n",
       "        vertical-align: top;\n",
       "    }\n",
       "\n",
       "    .dataframe thead th {\n",
       "        text-align: right;\n",
       "    }\n",
       "</style>\n",
       "<table border=\"1\" class=\"dataframe\">\n",
       "  <thead>\n",
       "    <tr style=\"text-align: right;\">\n",
       "      <th></th>\n",
       "      <th>Close</th>\n",
       "      <th>Open</th>\n",
       "      <th>High</th>\n",
       "      <th>Low</th>\n",
       "      <th>Volume</th>\n",
       "      <th>Change</th>\n",
       "    </tr>\n",
       "    <tr>\n",
       "      <th>Date</th>\n",
       "      <th></th>\n",
       "      <th></th>\n",
       "      <th></th>\n",
       "      <th></th>\n",
       "      <th></th>\n",
       "      <th></th>\n",
       "    </tr>\n",
       "  </thead>\n",
       "  <tbody>\n",
       "    <tr>\n",
       "      <th>2000-01-04</th>\n",
       "      <td>1059.04</td>\n",
       "      <td>1028.33</td>\n",
       "      <td>1066.18</td>\n",
       "      <td>1016.59</td>\n",
       "      <td>195900000.0</td>\n",
       "      <td>0.0301</td>\n",
       "    </tr>\n",
       "    <tr>\n",
       "      <th>2000-01-05</th>\n",
       "      <td>986.31</td>\n",
       "      <td>1006.87</td>\n",
       "      <td>1026.52</td>\n",
       "      <td>984.05</td>\n",
       "      <td>257700000.0</td>\n",
       "      <td>-0.0687</td>\n",
       "    </tr>\n",
       "    <tr>\n",
       "      <th>2000-01-06</th>\n",
       "      <td>960.79</td>\n",
       "      <td>1013.95</td>\n",
       "      <td>1014.90</td>\n",
       "      <td>953.50</td>\n",
       "      <td>203520000.0</td>\n",
       "      <td>-0.0259</td>\n",
       "    </tr>\n",
       "    <tr>\n",
       "      <th>2000-01-07</th>\n",
       "      <td>948.65</td>\n",
       "      <td>949.17</td>\n",
       "      <td>970.16</td>\n",
       "      <td>930.84</td>\n",
       "      <td>215660000.0</td>\n",
       "      <td>-0.0126</td>\n",
       "    </tr>\n",
       "    <tr>\n",
       "      <th>2000-01-10</th>\n",
       "      <td>987.24</td>\n",
       "      <td>979.67</td>\n",
       "      <td>994.94</td>\n",
       "      <td>965.02</td>\n",
       "      <td>240180000.0</td>\n",
       "      <td>0.0407</td>\n",
       "    </tr>\n",
       "    <tr>\n",
       "      <th>...</th>\n",
       "      <td>...</td>\n",
       "      <td>...</td>\n",
       "      <td>...</td>\n",
       "      <td>...</td>\n",
       "      <td>...</td>\n",
       "      <td>...</td>\n",
       "    </tr>\n",
       "    <tr>\n",
       "      <th>2022-08-31</th>\n",
       "      <td>2472.05</td>\n",
       "      <td>2433.47</td>\n",
       "      <td>2473.75</td>\n",
       "      <td>2426.14</td>\n",
       "      <td>436250000.0</td>\n",
       "      <td>0.0086</td>\n",
       "    </tr>\n",
       "    <tr>\n",
       "      <th>2022-09-01</th>\n",
       "      <td>2415.61</td>\n",
       "      <td>2443.00</td>\n",
       "      <td>2443.61</td>\n",
       "      <td>2415.61</td>\n",
       "      <td>580020000.0</td>\n",
       "      <td>-0.0228</td>\n",
       "    </tr>\n",
       "    <tr>\n",
       "      <th>2022-09-02</th>\n",
       "      <td>2409.41</td>\n",
       "      <td>2427.70</td>\n",
       "      <td>2432.37</td>\n",
       "      <td>2402.67</td>\n",
       "      <td>391600000.0</td>\n",
       "      <td>-0.0026</td>\n",
       "    </tr>\n",
       "    <tr>\n",
       "      <th>2022-09-05</th>\n",
       "      <td>2403.68</td>\n",
       "      <td>2410.07</td>\n",
       "      <td>2424.77</td>\n",
       "      <td>2392.63</td>\n",
       "      <td>354740000.0</td>\n",
       "      <td>-0.0024</td>\n",
       "    </tr>\n",
       "    <tr>\n",
       "      <th>2022-09-06</th>\n",
       "      <td>2410.02</td>\n",
       "      <td>2409.72</td>\n",
       "      <td>2422.53</td>\n",
       "      <td>2399.26</td>\n",
       "      <td>294220000.0</td>\n",
       "      <td>0.0026</td>\n",
       "    </tr>\n",
       "  </tbody>\n",
       "</table>\n",
       "<p>5601 rows × 6 columns</p>\n",
       "</div>"
      ],
      "text/plain": [
       "              Close     Open     High      Low       Volume  Change\n",
       "Date                                                               \n",
       "2000-01-04  1059.04  1028.33  1066.18  1016.59  195900000.0  0.0301\n",
       "2000-01-05   986.31  1006.87  1026.52   984.05  257700000.0 -0.0687\n",
       "2000-01-06   960.79  1013.95  1014.90   953.50  203520000.0 -0.0259\n",
       "2000-01-07   948.65   949.17   970.16   930.84  215660000.0 -0.0126\n",
       "2000-01-10   987.24   979.67   994.94   965.02  240180000.0  0.0407\n",
       "...             ...      ...      ...      ...          ...     ...\n",
       "2022-08-31  2472.05  2433.47  2473.75  2426.14  436250000.0  0.0086\n",
       "2022-09-01  2415.61  2443.00  2443.61  2415.61  580020000.0 -0.0228\n",
       "2022-09-02  2409.41  2427.70  2432.37  2402.67  391600000.0 -0.0026\n",
       "2022-09-05  2403.68  2410.07  2424.77  2392.63  354740000.0 -0.0024\n",
       "2022-09-06  2410.02  2409.72  2422.53  2399.26  294220000.0  0.0026\n",
       "\n",
       "[5601 rows x 6 columns]"
      ]
     },
     "execution_count": 4,
     "metadata": {},
     "output_type": "execute_result"
    }
   ],
   "source": [
    "kospi = fdr.DataReader('KS11', '2000', '2022-09-06')\n",
    "kospi"
   ]
  },
  {
   "cell_type": "code",
   "execution_count": 5,
   "id": "354308af",
   "metadata": {},
   "outputs": [
    {
     "name": "stdout",
     "output_type": "stream",
     "text": [
      "2000-11 2001-04\n",
      "2001-11 2002-04\n",
      "2002-11 2003-04\n",
      "2003-11 2004-04\n",
      "2004-11 2005-04\n",
      "2005-11 2006-04\n",
      "2006-11 2007-04\n",
      "2007-11 2008-04\n",
      "2008-11 2009-04\n",
      "2009-11 2010-04\n",
      "2010-11 2011-04\n",
      "2011-11 2012-04\n",
      "2012-11 2013-04\n",
      "2013-11 2014-04\n",
      "2014-11 2015-04\n",
      "2015-11 2016-04\n",
      "2016-11 2017-04\n",
      "2017-11 2018-04\n",
      "2018-11 2019-04\n",
      "2019-11 2020-04\n",
      "2020-11 2021-04\n",
      "2021-11 2022-04\n"
     ]
    }
   ],
   "source": [
    "for year in range(2000, 2022):\n",
    "    buy_month = str(year) + '-11'\n",
    "    sell_month = str(year+1) + '-04'\n",
    "    print(buy_month, sell_month)"
   ]
  },
  {
   "cell_type": "code",
   "execution_count": 6,
   "id": "a6485e64",
   "metadata": {},
   "outputs": [
    {
     "name": "stderr",
     "output_type": "stream",
     "text": [
      "C:\\Users\\esthe\\AppData\\Local\\Temp\\ipykernel_7892\\461819988.py:5: FutureWarning: Indexing a DataFrame with a datetimelike index using a single string to slice the rows, like `frame[string]`, is deprecated and will be removed in a future version. Use `frame.loc[string]` instead.\n",
      "  매수가 = kospi[buy_month].iloc[0]['Open'] # 11월 첫 거래일 시가\n",
      "C:\\Users\\esthe\\AppData\\Local\\Temp\\ipykernel_7892\\461819988.py:6: FutureWarning: Indexing a DataFrame with a datetimelike index using a single string to slice the rows, like `frame[string]`, is deprecated and will be removed in a future version. Use `frame.loc[string]` instead.\n",
      "  매도가 = kospi[sell_month].iloc[-1]['Close'] # 4월 마지막 거래일 종가\n"
     ]
    },
    {
     "name": "stdout",
     "output_type": "stream",
     "text": [
      "5.586520689549505\n"
     ]
    }
   ],
   "source": [
    "누적수익률 = 1.0\n",
    "for year in range(2000, 2022):\n",
    "    buy_month = str(year) + '-11'\n",
    "    sell_month = str(year+1) + '-04'\n",
    "    매수가 = kospi[buy_month].iloc[0]['Open'] # 11월 첫 거래일 시가\n",
    "    매도가 = kospi[sell_month].iloc[-1]['Close'] # 4월 마지막 거래일 종가\n",
    "    수익률 = 매도가/매수가\n",
    "    누적수익률 = 누적수익률 * 수익률\n",
    "print(누적수익률)"
   ]
  },
  {
   "cell_type": "markdown",
   "id": "852a201e",
   "metadata": {},
   "source": [
    "# 1.4 CAGR"
   ]
  },
  {
   "cell_type": "markdown",
   "id": "979110f1",
   "metadata": {},
   "source": [
    "### 전략 1. 11월에 사고 4월에 판매"
   ]
  },
  {
   "cell_type": "code",
   "execution_count": 7,
   "id": "cdd9509f",
   "metadata": {},
   "outputs": [
    {
     "name": "stdout",
     "output_type": "stream",
     "text": [
      "8.133677540062312\n"
     ]
    }
   ],
   "source": [
    "# 22 : 1년을 투자\n",
    "CAGR = (누적수익률 ** (1/22))-1\n",
    "print(CAGR * 100)"
   ]
  },
  {
   "cell_type": "code",
   "execution_count": 8,
   "id": "09d2aedc",
   "metadata": {},
   "outputs": [
    {
     "name": "stdout",
     "output_type": "stream",
     "text": [
      "16.928922183381733\n"
     ]
    }
   ],
   "source": [
    "#11  : 6개월 투자\n",
    "CAGR = (누적수익률 ** (1/11))-1\n",
    "print(CAGR * 100)"
   ]
  },
  {
   "cell_type": "markdown",
   "id": "18a1b602",
   "metadata": {},
   "source": [
    "### 전략 2. 계속 가지고 있음"
   ]
  },
  {
   "cell_type": "code",
   "execution_count": 11,
   "id": "0c6e97ce",
   "metadata": {
    "scrolled": true
   },
   "outputs": [
    {
     "name": "stdout",
     "output_type": "stream",
     "text": [
      "4.139076244362894\n"
     ]
    }
   ],
   "source": [
    "존버수익률 = kospi.iloc[-1]['Close'] / kospi.iloc[0]['Open']\n",
    "존버CAGR = (존버수익률 ** (1/21))-1\n",
    "print(존버CAGR * 100)"
   ]
  }
 ],
 "metadata": {
  "kernelspec": {
   "display_name": "Python 3 (ipykernel)",
   "language": "python",
   "name": "python3"
  },
  "language_info": {
   "codemirror_mode": {
    "name": "ipython",
    "version": 3
   },
   "file_extension": ".py",
   "mimetype": "text/x-python",
   "name": "python",
   "nbconvert_exporter": "python",
   "pygments_lexer": "ipython3",
   "version": "3.9.12"
  }
 },
 "nbformat": 4,
 "nbformat_minor": 5
}
