{
 "cells": [
  {
   "cell_type": "markdown",
   "id": "6fd64b90",
   "metadata": {},
   "source": [
    "### 과제\n",
    "#### 1. 위의 누적수익률 그래프에서 잘못된 점을 찾아 이를 바로 잡는 코드를 작성하시오.\n",
    "#### 2. 위의 DD 그래프에서 잘못된 점을 찾아 이를 바로 잡는 코드를 작성하시오.**"
   ]
  },
  {
   "cell_type": "code",
   "execution_count": 1,
   "id": "482d4bf3",
   "metadata": {},
   "outputs": [],
   "source": [
    "import FinanceDataReader as fdr\n",
    "import pandas as pd\n",
    "import matplotlib.pyplot as plt\n",
    "import numpy as np"
   ]
  },
  {
   "cell_type": "code",
   "execution_count": 2,
   "id": "299a388f",
   "metadata": {},
   "outputs": [],
   "source": [
    "def getCloseDataPandas(ticker, start,end=None):\n",
    "    print(ticker)\n",
    "    return data.get_data_yahoo(ticker, start,end)['Close']\n",
    "\n",
    "def getCloseData(ticker, start, end=None):\n",
    "    print(ticker)\n",
    "    return fdr.DataReader(ticker,start,end)['Close']\n",
    "\n",
    "def getDayReturn(closeDataSet):\n",
    "    return (closeDataSet/closeDataSet.shift(1)).fillna(1)\n",
    "\n",
    "def getCumulativeReturn(closeDataSet):\n",
    "    return closeDataSet / closeDataSet.iloc[0]\n",
    "\n",
    "def getPortfolioResult(closeDataSet, weight = None):\n",
    "    dayReturn = getDayReturn(closeDataSet)\n",
    "    cumulativeReturn = getCumulativeReturn(closeDataSet)\n",
    "    if not weight:\n",
    "        weight = [1/len(closeDataSet.columns)] * len(closeDataSet.columns)\n",
    "        \n",
    "    portfolioCumulativeReturn = (weight*cumulativeReturn).sum(axis=1)\n",
    "    portfolioDayReturn = (portfolioCumulativeReturn/portfolioCumulativeReturn.shift(1)).fillna(1)\n",
    "    \n",
    "    return portfolioDayReturn, portfolioCumulativeReturn\n",
    "\n",
    "def getEvaluation(cumulativeReturn):\n",
    "    cagr = cumulativeReturn.iloc[-1] ** (252/len(cumulativeReturn))\n",
    "    dd = (cumulativeReturn.cummax() - cumulativeReturn)/ cumulativeReturn.cummax()*100\n",
    "    \n",
    "    plt.figure(figsize=(15,5))\n",
    "    plt.plot(-dd, label=\"DrawDown\")\n",
    "    plt.legend(fontsize = 16)\n",
    "    mdd = dd.max()\n",
    "    \n",
    "    print(f\"최종 수익률 : {cumulativeReturn.iloc[-1]}\\ncagr: {cagr}\\nmdd: {mdd}\")\n",
    "    return cagr,dd,mdd\n",
    "\n",
    "\n",
    "def getRebalancingDate(closeDataSet, period=\"month\"):\n",
    "    data = closeDataSet.copy()\n",
    "    data = pd.DataFrame(data) \n",
    "    data.index = pd.to_datetime(data.index)\n",
    "    data['year'] = data.index.year\n",
    "    data['month'] = data.index.month\n",
    "    if period == \"month\":\n",
    "        rebalancingDate = data.drop_duplicates(['year', 'month'], keep=\"last\").index\n",
    "    if period == \"quarter\":\n",
    "        quarter = [3,6,9,12]\n",
    "        data = data.loc[data['month'].isin(quarter)]\n",
    "        rebalancingDate = data.drop_duplicates(['year', 'month'], keep=\"last\").index\n",
    "    if period == \"year\":\n",
    "        rebalancingDate = data.drop_duplicates(['year'], keep=\"last\").index\n",
    "    return rebalancingDate\n",
    "\n",
    "def getRebalancingPortfolioResult(closeDataSet, period = \"month\", weightDf=None):\n",
    "    if weightDf is None:\n",
    "        rebalancingDate = getRebalancingDate(closeDataSet, period) \n",
    "        weightDf = pd.DataFrame([[1/len(closeDataSet.columns)] * len(closeDataSet.columns)] * len(rebalancingDate),\n",
    "                                index=rebalancingDate,\n",
    "                                columns=closeDataSet.columns)\n",
    "    else:\n",
    "        closeDataSet = closeDataSet.loc[weightDf.index[0]:]\n",
    "        rebalancingDate = getRebalancingDate(closeDataSet, period) \n",
    "    portfolio = pd.DataFrame()\n",
    "    totalAsset = 1 \n",
    "    start = rebalancingDate[0] \n",
    "    for end in rebalancingDate[1:]:\n",
    "        weight = weightDf.loc[start]\n",
    "        priceData = closeDataSet.loc[start:end] \n",
    "        cumReturn = getCumulativeReturn(priceData) \n",
    "        weightedCumReturn = weight * cumReturn \n",
    "        netCumReturn = totalAsset * weightedCumReturn\n",
    "        start = end # start 갱신\n",
    "        totalAsset = netCumReturn.iloc[-1].sum()\n",
    "        portfolio = pd.concat([portfolio, netCumReturn])\n",
    "    portfolio = portfolio.loc[~portfolio.index.duplicated(keep='last')] \n",
    "    portfolioCumulativeReturn = portfolio.sum(axis=1)\n",
    "    portfolioDayReturn = (portfolioCumulativeReturn / portfolioCumulativeReturn.shift(1)).fillna(1)\n",
    "    \n",
    "    return portfolioDayReturn, portfolioCumulativeReturn\n",
    "\n",
    "def getDay(str0):\n",
    "    SY = int(str0[:4])\n",
    "    SM = int(str0[5:7])\n",
    "    SD = int(str0[8:10])\n",
    "    return SY,SM,SD \n"
   ]
  },
  {
   "cell_type": "markdown",
   "id": "875c5b30",
   "metadata": {},
   "source": [
    "# 단일 모멘텀 구하기"
   ]
  },
  {
   "cell_type": "code",
   "execution_count": 3,
   "id": "6650793e",
   "metadata": {},
   "outputs": [
    {
     "name": "stdout",
     "output_type": "stream",
     "text": [
      "069500\n"
     ]
    }
   ],
   "source": [
    "test=   getCloseData(\"069500\", \"2021-9-1\",\"2022-9-30\")"
   ]
  },
  {
   "cell_type": "code",
   "execution_count": 4,
   "id": "4b6262a0",
   "metadata": {},
   "outputs": [
    {
     "data": {
      "text/plain": [
       "Date\n",
       "2021-09-01    41200\n",
       "2021-09-02    40823\n",
       "2021-09-03    41087\n",
       "2021-09-06    41230\n",
       "2021-09-07    40984\n",
       "              ...  \n",
       "2022-09-26    29050\n",
       "2022-09-27    29105\n",
       "2022-09-28    28390\n",
       "2022-09-29    28400\n",
       "2022-09-30    28275\n",
       "Name: Close, Length: 266, dtype: int64"
      ]
     },
     "execution_count": 4,
     "metadata": {},
     "output_type": "execute_result"
    }
   ],
   "source": [
    "test"
   ]
  },
  {
   "cell_type": "code",
   "execution_count": 5,
   "id": "50f76257",
   "metadata": {},
   "outputs": [],
   "source": [
    "table =  test.loc[getRebalancingDate(test)]"
   ]
  },
  {
   "cell_type": "code",
   "execution_count": 6,
   "id": "24312d93",
   "metadata": {},
   "outputs": [
    {
     "data": {
      "text/plain": [
       "Date\n",
       "2021-09-30    39387\n",
       "2021-10-29    38126\n",
       "2021-11-30    36757\n",
       "2021-12-30    39153\n",
       "2022-01-28    35656\n",
       "2022-02-28    36005\n",
       "2022-03-31    36472\n",
       "2022-04-29    35433\n",
       "2022-05-31    35363\n",
       "2022-06-30    30808\n",
       "2022-07-29    32385\n",
       "2022-08-31    32230\n",
       "2022-09-30    28275\n",
       "Name: Close, dtype: int64"
      ]
     },
     "execution_count": 6,
     "metadata": {},
     "output_type": "execute_result"
    }
   ],
   "source": [
    "table"
   ]
  },
  {
   "cell_type": "code",
   "execution_count": null,
   "id": "4c38f223",
   "metadata": {},
   "outputs": [],
   "source": []
  }
 ],
 "metadata": {
  "kernelspec": {
   "display_name": "Python 3 (ipykernel)",
   "language": "python",
   "name": "python3"
  },
  "language_info": {
   "codemirror_mode": {
    "name": "ipython",
    "version": 3
   },
   "file_extension": ".py",
   "mimetype": "text/x-python",
   "name": "python",
   "nbconvert_exporter": "python",
   "pygments_lexer": "ipython3",
   "version": "3.9.12"
  }
 },
 "nbformat": 4,
 "nbformat_minor": 5
}
