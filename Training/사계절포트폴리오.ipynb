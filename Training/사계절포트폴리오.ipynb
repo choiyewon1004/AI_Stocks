{
 "cells": [
  {
   "cell_type": "code",
   "execution_count": 1,
   "id": "7c810c23",
   "metadata": {},
   "outputs": [],
   "source": [
    "import FinanceDataReader as fdr\n",
    "import pandas_datareader.data as web\n",
    "import pandas as pd\n",
    "import matplotlib.pyplot as plt\n",
    "import numpy as np\n",
    "from pandas_datareader import data\n",
    "import math"
   ]
  },
  {
   "cell_type": "code",
   "execution_count": 2,
   "id": "a0f0142c",
   "metadata": {},
   "outputs": [],
   "source": [
    "def getCloseDataPandas(ticker, start,end=None):\n",
    "    #print(\"ticker: \" ,ticker)\n",
    "    return data.get_data_yahoo(ticker, start,end)['Close']\n",
    "\n",
    "def getCloseData(ticker, start, end=None):\n",
    "    #print(\"ticker: \" ,ticker)\n",
    "    return fdr.DataReader(ticker,start,end)['Close']\n",
    "\n",
    "def getDayReturn(closeDataSet):\n",
    "    return (closeDataSet/closeDataSet.shift(1)).fillna(1)\n",
    "\n",
    "def getCumulativeReturn(closeDataSet):\n",
    "    return closeDataSet / closeDataSet.iloc[0]\n",
    "\n",
    "def getPortfolioResult(closeDataSet, weight = None):\n",
    "    dayReturn = getDayReturn(closeDataSet)\n",
    "    cumulativeReturn = getCumulativeReturn(closeDataSet)\n",
    "    if not weight:\n",
    "        weight = [1/len(closeDataSet.columns)] * len(closeDataSet.columns)\n",
    "        \n",
    "    portfolioCumulativeReturn = (weight*cumulativeReturn).sum(axis=1)\n",
    "    portfolioDayReturn = (portfolioCumulativeReturn/portfolioCumulativeReturn.shift(1)).fillna(1)\n",
    "    \n",
    "    return portfolioDayReturn, portfolioCumulativeReturn\n",
    "\n",
    "def getEvaluation(cumulativeReturn):\n",
    "    cagr = cumulativeReturn.iloc[-1] ** (252/len(cumulativeReturn))\n",
    "    dd = (cumulativeReturn.cummax() - cumulativeReturn)/ cumulativeReturn.cummax()*100\n",
    "    \n",
    "    #plt.figure(figsize=(15,5))\n",
    "    #plt.plot(-dd, label=\"DrawDown\")\n",
    "    #plt.legend(fontsize = 16)\n",
    "    mdd = dd.max()\n",
    "    \n",
    "    plt.figure(figsize=(20, 10))\n",
    "\n",
    "    plt.subplot(2, 1, 1)\n",
    "    cumulativeReturn.plot(color=\"green\")\n",
    "    plt.ylabel(\"profit\", fontsize=20)\n",
    "\n",
    "    plt.subplot(2, 1, 2)\n",
    "    plt.plot(-dd, color=\"red\")\n",
    "    plt.ylabel(\"draw down\", fontsize=20)\n",
    "\n",
    "    plt.show()\n",
    "\n",
    "    \n",
    "    print(f\"최종 수익률 : {cumulativeReturn.iloc[-1]}\\ncagr: {cagr}\\nmdd: {mdd}\")\n",
    "    return cagr,dd,mdd\n",
    "\n",
    "\n",
    "def getRebalancingDate(closeDataSet, period):\n",
    "    data = closeDataSet.copy()\n",
    "    data = pd.DataFrame(data) \n",
    "\n",
    "    data.index = pd.to_datetime(data.index)\n",
    "    data['year'] = data.index.year\n",
    "    data['month'] = data.index.month\n",
    "    if period == \"month\":\n",
    "        rebalancingDate = data.drop_duplicates(['year', 'month'], keep=\"last\").index\n",
    "    if period == \"quarter\":\n",
    "        quarter = [3,6,9,12]\n",
    "        data = data.loc[data['month'].isin(quarter)]\n",
    "        rebalancingDate = data.drop_duplicates(['year', 'month'], keep=\"last\").index\n",
    "    if period == \"year\":\n",
    "        rebalancingDate = data.drop_duplicates(['year', 'month'], keep=\"last\")\n",
    "        check = int(rebalancingDate.iloc[len(rebalancingDate)-1].to_list()[len(rebalancingDate.columns)-1])\n",
    "        rebalancingDate= rebalancingDate[rebalancingDate['month']==check].index\n",
    "    return rebalancingDate\n",
    "\n",
    "\n",
    "def getRebalancingPortfolioResult(closeDataSet, period , weightDf=None):\n",
    "    if weightDf is None : \n",
    "        rebalancingDate = getRebalancingDate(closeDataSet, period) \n",
    "        weightDf = pd.DataFrame([[1/len(closeDataSet.columns)] * len(closeDataSet.columns)] * len(rebalancingDate),\n",
    "                                index=rebalancingDate,\n",
    "                                columns=closeDataSet.columns)\n",
    "    else:\n",
    "        rebalancingDate = getRebalancingDate(closeDataSet, period) \n",
    "        weightDf = pd.DataFrame([[1/len(closeDataSet.columns)] * len(closeDataSet.columns)] * len(rebalancingDate),\n",
    "                                index=rebalancingDate,\n",
    "                                columns=closeDataSet.columns)\n",
    "        for i in range(0, len(weightDf.columns)):\n",
    "            print(weightDf.columns[i] , \"비율 : \")\n",
    "            weightDf[weightDf.columns[i]] = float(input())\n",
    "            \n",
    "\n",
    "    portfolio = pd.DataFrame()\n",
    "    totalAsset = 1 \n",
    "    start = rebalancingDate[0] \n",
    "    for end in rebalancingDate[1:]:\n",
    "        weight = weightDf.loc[start]\n",
    "        priceData = closeDataSet.loc[start:end] \n",
    "        cumReturn = getCumulativeReturn(priceData) \n",
    "        weightedCumReturn = weight * cumReturn \n",
    "        netCumReturn = totalAsset * weightedCumReturn\n",
    "        start = end # start 갱신\n",
    "        totalAsset = netCumReturn.iloc[-1].sum()\n",
    "        portfolio = pd.concat([portfolio, netCumReturn])\n",
    "    portfolio = portfolio.loc[~portfolio.index.duplicated(keep='last')] \n",
    "    portfolioCumulativeReturn = portfolio.sum(axis=1)\n",
    "    portfolioDayReturn = (portfolioCumulativeReturn / portfolioCumulativeReturn.shift(1)).fillna(1)\n",
    "\n",
    "    return portfolioDayReturn, portfolioCumulativeReturn\n",
    "\n",
    "\n",
    "def getDay(str0):\n",
    "    SY = int(str0[:4])\n",
    "    SM = int(str0[5:7])\n",
    "    SD = int(str0[8:10])\n",
    "    return SY,SM,SD \n"
   ]
  },
  {
   "cell_type": "code",
   "execution_count": 3,
   "id": "f1e2111f",
   "metadata": {},
   "outputs": [],
   "source": [
    "SPY = getCloseDataPandas(\"SPY\",\"1994-01\",\"2022-09-30\") \n",
    "IEF = getCloseDataPandas(\"IEF\",\"1994-01\",\"2022-09-30\") \n",
    "TLT = getCloseDataPandas(\"TLT\",\"1994-01\",\"2022-09-30\") \n",
    "GLD = getCloseDataPandas(\"GLD\",\"1994-01\",\"2022-09-30\") \n",
    "DBC = getCloseDataPandas(\"DBC\",\"1994-01\",\"2022-09-30\") "
   ]
  },
  {
   "cell_type": "code",
   "execution_count": 4,
   "id": "414d8396",
   "metadata": {},
   "outputs": [
    {
     "data": {
      "text/plain": [
       "Date\n",
       "1993-12-31     46.593750\n",
       "1994-01-03     46.468750\n",
       "1994-01-04     46.656250\n",
       "1994-01-05     46.750000\n",
       "1994-01-06     46.750000\n",
       "                 ...    \n",
       "2022-09-26    364.309998\n",
       "2022-09-27    363.380005\n",
       "2022-09-28    370.529999\n",
       "2022-09-29    362.790009\n",
       "2022-09-30    357.179993\n",
       "Name: Close, Length: 7240, dtype: float64"
      ]
     },
     "execution_count": 4,
     "metadata": {},
     "output_type": "execute_result"
    }
   ],
   "source": [
    "SPY"
   ]
  },
  {
   "cell_type": "code",
   "execution_count": 5,
   "id": "1de88d42",
   "metadata": {},
   "outputs": [
    {
     "data": {
      "text/plain": [
       "Date\n",
       "2002-07-30    81.769997\n",
       "2002-07-31    82.519997\n",
       "2002-08-01    82.860001\n",
       "2002-08-02    83.500000\n",
       "2002-08-05    83.919998\n",
       "                ...    \n",
       "2022-09-26    95.209999\n",
       "2022-09-27    94.559998\n",
       "2022-09-28    96.690002\n",
       "2022-09-29    96.239998\n",
       "2022-09-30    95.989998\n",
       "Name: Close, Length: 5080, dtype: float64"
      ]
     },
     "execution_count": 5,
     "metadata": {},
     "output_type": "execute_result"
    }
   ],
   "source": [
    "IEF"
   ]
  },
  {
   "cell_type": "code",
   "execution_count": 6,
   "id": "527ef2f3",
   "metadata": {},
   "outputs": [
    {
     "data": {
      "text/plain": [
       "Date\n",
       "2002-07-30     81.519997\n",
       "2002-07-31     82.529999\n",
       "2002-08-01     83.000000\n",
       "2002-08-02     83.849998\n",
       "2002-08-05     84.220001\n",
       "                 ...    \n",
       "2022-09-26    103.680000\n",
       "2022-09-27    100.949997\n",
       "2022-09-28    104.330002\n",
       "2022-09-29    103.790001\n",
       "2022-09-30    102.449997\n",
       "Name: Close, Length: 5080, dtype: float64"
      ]
     },
     "execution_count": 6,
     "metadata": {},
     "output_type": "execute_result"
    }
   ],
   "source": [
    "TLT"
   ]
  },
  {
   "cell_type": "code",
   "execution_count": 7,
   "id": "bbaf19c3",
   "metadata": {},
   "outputs": [
    {
     "data": {
      "text/plain": [
       "Date\n",
       "2004-11-18     44.380001\n",
       "2004-11-19     44.779999\n",
       "2004-11-22     44.950001\n",
       "2004-11-23     44.750000\n",
       "2004-11-24     45.049999\n",
       "                 ...    \n",
       "2022-09-26    151.229996\n",
       "2022-09-27    151.539993\n",
       "2022-09-28    154.690002\n",
       "2022-09-29    154.660004\n",
       "2022-09-30    154.669998\n",
       "Name: Close, Length: 4498, dtype: float64"
      ]
     },
     "execution_count": 7,
     "metadata": {},
     "output_type": "execute_result"
    }
   ],
   "source": [
    "GLD"
   ]
  },
  {
   "cell_type": "code",
   "execution_count": 8,
   "id": "b465c8af",
   "metadata": {},
   "outputs": [
    {
     "data": {
      "text/plain": [
       "Date\n",
       "2006-02-06    24.200001\n",
       "2006-02-07    23.500000\n",
       "2006-02-08    23.400000\n",
       "2006-02-09    23.620001\n",
       "2006-02-10    23.190001\n",
       "                ...    \n",
       "2022-09-26    23.450001\n",
       "2022-09-27    23.700001\n",
       "2022-09-28    24.360001\n",
       "2022-09-29    24.209999\n",
       "2022-09-30    23.910000\n",
       "Name: Close, Length: 4193, dtype: float64"
      ]
     },
     "execution_count": 8,
     "metadata": {},
     "output_type": "execute_result"
    }
   ],
   "source": [
    "DBC"
   ]
  },
  {
   "cell_type": "code",
   "execution_count": null,
   "id": "9c38a95f",
   "metadata": {},
   "outputs": [],
   "source": []
  },
  {
   "cell_type": "code",
   "execution_count": 9,
   "id": "26b4e239",
   "metadata": {},
   "outputs": [],
   "source": [
    "closeDataSet = pd.concat([SPY,IEF,TLT,GLD, DBC], axis=1)\n",
    "closeDataSet.columns = [\"SPY\",\"IEF\",\"TLT\",\"GLD\", \"DBC\"]\n",
    "closeDataSet.dropna(inplace = True)"
   ]
  },
  {
   "cell_type": "code",
   "execution_count": 10,
   "id": "cff6ba4b",
   "metadata": {},
   "outputs": [
    {
     "data": {
      "text/html": [
       "<div>\n",
       "<style scoped>\n",
       "    .dataframe tbody tr th:only-of-type {\n",
       "        vertical-align: middle;\n",
       "    }\n",
       "\n",
       "    .dataframe tbody tr th {\n",
       "        vertical-align: top;\n",
       "    }\n",
       "\n",
       "    .dataframe thead th {\n",
       "        text-align: right;\n",
       "    }\n",
       "</style>\n",
       "<table border=\"1\" class=\"dataframe\">\n",
       "  <thead>\n",
       "    <tr style=\"text-align: right;\">\n",
       "      <th></th>\n",
       "      <th>SPY</th>\n",
       "      <th>IEF</th>\n",
       "      <th>TLT</th>\n",
       "      <th>GLD</th>\n",
       "      <th>DBC</th>\n",
       "    </tr>\n",
       "    <tr>\n",
       "      <th>Date</th>\n",
       "      <th></th>\n",
       "      <th></th>\n",
       "      <th></th>\n",
       "      <th></th>\n",
       "      <th></th>\n",
       "    </tr>\n",
       "  </thead>\n",
       "  <tbody>\n",
       "    <tr>\n",
       "      <th>2006-02-06</th>\n",
       "      <td>126.599998</td>\n",
       "      <td>82.930000</td>\n",
       "      <td>91.029999</td>\n",
       "      <td>56.720001</td>\n",
       "      <td>24.200001</td>\n",
       "    </tr>\n",
       "    <tr>\n",
       "      <th>2006-02-07</th>\n",
       "      <td>125.480003</td>\n",
       "      <td>82.830002</td>\n",
       "      <td>90.599998</td>\n",
       "      <td>54.599998</td>\n",
       "      <td>23.500000</td>\n",
       "    </tr>\n",
       "    <tr>\n",
       "      <th>2006-02-08</th>\n",
       "      <td>126.620003</td>\n",
       "      <td>82.779999</td>\n",
       "      <td>90.389999</td>\n",
       "      <td>54.830002</td>\n",
       "      <td>23.400000</td>\n",
       "    </tr>\n",
       "    <tr>\n",
       "      <th>2006-02-09</th>\n",
       "      <td>126.410004</td>\n",
       "      <td>82.860001</td>\n",
       "      <td>90.800003</td>\n",
       "      <td>56.180000</td>\n",
       "      <td>23.620001</td>\n",
       "    </tr>\n",
       "    <tr>\n",
       "      <th>2006-02-10</th>\n",
       "      <td>126.639999</td>\n",
       "      <td>82.620003</td>\n",
       "      <td>90.300003</td>\n",
       "      <td>54.790001</td>\n",
       "      <td>23.190001</td>\n",
       "    </tr>\n",
       "    <tr>\n",
       "      <th>...</th>\n",
       "      <td>...</td>\n",
       "      <td>...</td>\n",
       "      <td>...</td>\n",
       "      <td>...</td>\n",
       "      <td>...</td>\n",
       "    </tr>\n",
       "    <tr>\n",
       "      <th>2022-09-26</th>\n",
       "      <td>364.309998</td>\n",
       "      <td>95.209999</td>\n",
       "      <td>103.680000</td>\n",
       "      <td>151.229996</td>\n",
       "      <td>23.450001</td>\n",
       "    </tr>\n",
       "    <tr>\n",
       "      <th>2022-09-27</th>\n",
       "      <td>363.380005</td>\n",
       "      <td>94.559998</td>\n",
       "      <td>100.949997</td>\n",
       "      <td>151.539993</td>\n",
       "      <td>23.700001</td>\n",
       "    </tr>\n",
       "    <tr>\n",
       "      <th>2022-09-28</th>\n",
       "      <td>370.529999</td>\n",
       "      <td>96.690002</td>\n",
       "      <td>104.330002</td>\n",
       "      <td>154.690002</td>\n",
       "      <td>24.360001</td>\n",
       "    </tr>\n",
       "    <tr>\n",
       "      <th>2022-09-29</th>\n",
       "      <td>362.790009</td>\n",
       "      <td>96.239998</td>\n",
       "      <td>103.790001</td>\n",
       "      <td>154.660004</td>\n",
       "      <td>24.209999</td>\n",
       "    </tr>\n",
       "    <tr>\n",
       "      <th>2022-09-30</th>\n",
       "      <td>357.179993</td>\n",
       "      <td>95.989998</td>\n",
       "      <td>102.449997</td>\n",
       "      <td>154.669998</td>\n",
       "      <td>23.910000</td>\n",
       "    </tr>\n",
       "  </tbody>\n",
       "</table>\n",
       "<p>4193 rows × 5 columns</p>\n",
       "</div>"
      ],
      "text/plain": [
       "                   SPY        IEF         TLT         GLD        DBC\n",
       "Date                                                                \n",
       "2006-02-06  126.599998  82.930000   91.029999   56.720001  24.200001\n",
       "2006-02-07  125.480003  82.830002   90.599998   54.599998  23.500000\n",
       "2006-02-08  126.620003  82.779999   90.389999   54.830002  23.400000\n",
       "2006-02-09  126.410004  82.860001   90.800003   56.180000  23.620001\n",
       "2006-02-10  126.639999  82.620003   90.300003   54.790001  23.190001\n",
       "...                ...        ...         ...         ...        ...\n",
       "2022-09-26  364.309998  95.209999  103.680000  151.229996  23.450001\n",
       "2022-09-27  363.380005  94.559998  100.949997  151.539993  23.700001\n",
       "2022-09-28  370.529999  96.690002  104.330002  154.690002  24.360001\n",
       "2022-09-29  362.790009  96.239998  103.790001  154.660004  24.209999\n",
       "2022-09-30  357.179993  95.989998  102.449997  154.669998  23.910000\n",
       "\n",
       "[4193 rows x 5 columns]"
      ]
     },
     "execution_count": 10,
     "metadata": {},
     "output_type": "execute_result"
    }
   ],
   "source": [
    "closeDataSet"
   ]
  },
  {
   "cell_type": "code",
   "execution_count": 11,
   "id": "c8dfe54e",
   "metadata": {},
   "outputs": [
    {
     "data": {
      "text/plain": [
       "DatetimeIndex(['2006-09-29', '2007-09-28', '2008-09-30', '2009-09-30',\n",
       "               '2010-09-30', '2011-09-30', '2012-09-28', '2013-09-30',\n",
       "               '2014-09-30', '2015-09-30', '2016-09-30', '2017-09-29',\n",
       "               '2018-09-28', '2019-09-30', '2020-09-30', '2021-09-30',\n",
       "               '2022-09-30'],\n",
       "              dtype='datetime64[ns]', name='Date', freq=None)"
      ]
     },
     "execution_count": 11,
     "metadata": {},
     "output_type": "execute_result"
    }
   ],
   "source": [
    "rebalancingDate = getRebalancingDate(closeDataSet, \"year\")\n",
    "rebalancingDate"
   ]
  },
  {
   "cell_type": "code",
   "execution_count": 12,
   "id": "0d57d4d8",
   "metadata": {},
   "outputs": [
    {
     "name": "stdout",
     "output_type": "stream",
     "text": [
      "SPY 비율 : \n",
      "0.3\n",
      "IEF 비율 : \n",
      "0.15\n",
      "TLT 비율 : \n",
      "0.4\n",
      "GLD 비율 : \n",
      "0.075\n",
      "DBC 비율 : \n",
      "0.075\n"
     ]
    }
   ],
   "source": [
    "rebalPortfolioDayReturn, rebalPortfolioCumulativeReturn = getRebalancingPortfolioResult(closeDataSet,\"year\",1)"
   ]
  },
  {
   "cell_type": "code",
   "execution_count": 13,
   "id": "98c1b0a0",
   "metadata": {
    "scrolled": true
   },
   "outputs": [
    {
     "data": {
      "image/png": "[encoded data removed]",
      "text/plain": [
       "<Figure size 1440x720 with 2 Axes>"
      ]
     },
     "metadata": {
      "needs_background": "light"
     },
     "output_type": "display_data"
    },
    {
     "name": "stdout",
     "output_type": "stream",
     "text": [
      "최종 수익률 : 1.7312716403334485\n",
      "cagr: 1.034925097331352\n",
      "mdd: 22.740369412442142\n"
     ]
    }
   ],
   "source": [
    "rebalCagr, rebalDD, rebalMDD = getEvaluation(rebalPortfolioCumulativeReturn)"
   ]
  },
  {
   "cell_type": "code",
   "execution_count": null,
   "id": "29a6956d",
   "metadata": {},
   "outputs": [],
   "source": []
  }
 ],
 "metadata": {
  "kernelspec": {
   "display_name": "Python 3 (ipykernel)",
   "language": "python",
   "name": "python3"
  },
  "language_info": {
   "codemirror_mode": {
    "name": "ipython",
    "version": 3
   },
   "file_extension": ".py",
   "mimetype": "text/x-python",
   "name": "python",
   "nbconvert_exporter": "python",
   "pygments_lexer": "ipython3",
   "version": "3.9.12"
  }
 },
 "nbformat": 4,
 "nbformat_minor": 5
}
