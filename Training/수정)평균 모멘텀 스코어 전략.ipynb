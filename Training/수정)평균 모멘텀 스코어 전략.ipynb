{
 "cells": [
  {
   "cell_type": "markdown",
   "id": "62b16c94",
   "metadata": {},
   "source": [
    "### 과제\n",
    "#### 1. 위의 누적수익률 그래프에서 잘못된 점을 찾아 이를 바로 잡는 코드를 작성하시오.\n",
    "#### 2. 위의 DD 그래프에서 잘못된 점을 찾아 이를 바로 잡는 코드를 작성하시오.**"
   ]
  },
  {
   "cell_type": "code",
   "execution_count": 2,
   "id": "482d4bf3",
   "metadata": {},
   "outputs": [],
   "source": [
    "import FinanceDataReader as fdr\n",
    "import pandas as pd\n",
    "import matplotlib.pyplot as plt\n",
    "import numpy as np"
   ]
  },
  {
   "cell_type": "code",
   "execution_count": 3,
   "id": "299a388f",
   "metadata": {},
   "outputs": [],
   "source": [
    "def getCloseDataPandas(ticker, start,end=None):\n",
    "    #print(\"ticker: \" ,ticker)\n",
    "    return data.get_data_yahoo(ticker, start,end)['Close']\n",
    "\n",
    "def getCloseData(ticker, start, end=None):\n",
    "    #print(\"ticker: \" ,ticker)\n",
    "    return fdr.DataReader(ticker,start,end)['Close']\n",
    "\n",
    "def getDayReturn(closeDataSet):\n",
    "    return (closeDataSet/closeDataSet.shift(1)).fillna(1)\n",
    "\n",
    "def getCumulativeReturn(closeDataSet):\n",
    "    return closeDataSet / closeDataSet.iloc[0]\n",
    "\n",
    "def getPortfolioResult(closeDataSet, weight = None):\n",
    "    dayReturn = getDayReturn(closeDataSet)\n",
    "    cumulativeReturn = getCumulativeReturn(closeDataSet)\n",
    "    if not weight:\n",
    "        weight = [1/len(closeDataSet.columns)] * len(closeDataSet.columns)\n",
    "        \n",
    "    portfolioCumulativeReturn = (weight*cumulativeReturn).sum(axis=1)\n",
    "    portfolioDayReturn = (portfolioCumulativeReturn/portfolioCumulativeReturn.shift(1)).fillna(1)\n",
    "    \n",
    "    return portfolioDayReturn, portfolioCumulativeReturn\n",
    "\n",
    "def getEvaluation(cumulativeReturn):\n",
    "    cagr = cumulativeReturn.iloc[-1] ** (252/len(cumulativeReturn))\n",
    "    dd = (cumulativeReturn.cummax() - cumulativeReturn)/ cumulativeReturn.cummax()*100\n",
    "    \n",
    "    plt.figure(figsize=(15,5))\n",
    "    plt.plot(-dd, label=\"DrawDown\")\n",
    "    plt.legend(fontsize = 16)\n",
    "    mdd = dd.max()\n",
    "    \n",
    "    print(f\"최종 수익률 : {cumulativeReturn.iloc[-1]}\\ncagr: {cagr}\\nmdd: {mdd}\")\n",
    "    return cagr,dd,mdd\n",
    "\n",
    "\n",
    "def getRebalancingDate(closeDataSet, period=\"month\"):\n",
    "    data = closeDataSet.copy()\n",
    "    data = pd.DataFrame(data) \n",
    "    data.index = pd.to_datetime(data.index)\n",
    "    data['year'] = data.index.year\n",
    "    data['month'] = data.index.month\n",
    "    if period == \"month\":\n",
    "        rebalancingDate = data.drop_duplicates(['year', 'month'], keep=\"last\").index\n",
    "    if period == \"quarter\":\n",
    "        quarter = [3,6,9,12]\n",
    "        data = data.loc[data['month'].isin(quarter)]\n",
    "        rebalancingDate = data.drop_duplicates(['year', 'month'], keep=\"last\").index\n",
    "    if period == \"year\":\n",
    "        rebalancingDate = data.drop_duplicates(['year'], keep=\"last\").index\n",
    "    return rebalancingDate\n",
    "\n",
    "def getRebalancingPortfolioResult(closeDataSet, period = \"month\", weightDf=None):\n",
    "    if weightDf is None:\n",
    "        rebalancingDate = getRebalancingDate(closeDataSet, period) \n",
    "        weightDf = pd.DataFrame([[1/len(closeDataSet.columns)] * len(closeDataSet.columns)] * len(rebalancingDate),\n",
    "                                index=rebalancingDate,\n",
    "                                columns=closeDataSet.columns)\n",
    "    else:\n",
    "        closeDataSet = closeDataSet.loc[weightDf.index[0]:]\n",
    "        rebalancingDate = getRebalancingDate(closeDataSet, period) \n",
    "    portfolio = pd.DataFrame()\n",
    "    totalAsset = 1 \n",
    "    start = rebalancingDate[0] \n",
    "    for end in rebalancingDate[1:]:\n",
    "        weight = weightDf.loc[start]\n",
    "        priceData = closeDataSet.loc[start:end] \n",
    "        cumReturn = getCumulativeReturn(priceData) \n",
    "        weightedCumReturn = weight * cumReturn \n",
    "        netCumReturn = totalAsset * weightedCumReturn\n",
    "        start = end # start 갱신\n",
    "        totalAsset = netCumReturn.iloc[-1].sum()\n",
    "        portfolio = pd.concat([portfolio, netCumReturn])\n",
    "    portfolio = portfolio.loc[~portfolio.index.duplicated(keep='last')] \n",
    "    portfolioCumulativeReturn = portfolio.sum(axis=1)\n",
    "    portfolioDayReturn = (portfolioCumulativeReturn / portfolioCumulativeReturn.shift(1)).fillna(1)\n",
    "    \n",
    "    return portfolioDayReturn, portfolioCumulativeReturn\n",
    "\n",
    "def getDay(str0):\n",
    "    SY = int(str0[:4])\n",
    "    SM = int(str0[5:7])\n",
    "    SD = int(str0[8:10])\n",
    "    return SY,SM,SD \n"
   ]
  },
  {
   "cell_type": "markdown",
   "id": "d802c5d9",
   "metadata": {},
   "source": [
    "# 매월 마지막날 종가를 기준으로 모메텀 계산"
   ]
  },
  {
   "cell_type": "markdown",
   "id": "dd016b6d",
   "metadata": {},
   "source": [
    "# 1. 주식"
   ]
  },
  {
   "cell_type": "code",
   "execution_count": 4,
   "id": "9cb35b10",
   "metadata": {},
   "outputs": [
    {
     "data": {
      "text/plain": [
       "Date\n",
       "2021-09-01    41200\n",
       "2021-09-02    40823\n",
       "2021-09-03    41087\n",
       "2021-09-06    41230\n",
       "2021-09-07    40984\n",
       "              ...  \n",
       "2022-09-26    29050\n",
       "2022-09-27    29105\n",
       "2022-09-28    28390\n",
       "2022-09-29    28400\n",
       "2022-09-30    28275\n",
       "Name: Close, Length: 266, dtype: int64"
      ]
     },
     "execution_count": 4,
     "metadata": {},
     "output_type": "execute_result"
    }
   ],
   "source": [
    "kodex200 = getCloseData(\"069500\", \"2021-9-1\",\"2022-9-30\")\n",
    "kodex200"
   ]
  },
  {
   "cell_type": "code",
   "execution_count": 5,
   "id": "b0b00ba2",
   "metadata": {},
   "outputs": [
    {
     "data": {
      "text/plain": [
       "DatetimeIndex(['2021-09-30', '2021-10-29', '2021-11-30', '2021-12-30',\n",
       "               '2022-01-28', '2022-02-28', '2022-03-31', '2022-04-29',\n",
       "               '2022-05-31', '2022-06-30', '2022-07-29', '2022-08-31',\n",
       "               '2022-09-30'],\n",
       "              dtype='datetime64[ns]', name='Date', freq=None)"
      ]
     },
     "execution_count": 5,
     "metadata": {},
     "output_type": "execute_result"
    }
   ],
   "source": [
    "rebalDate = getRebalancingDate(kodex200)\n",
    "rebalDate"
   ]
  },
  {
   "cell_type": "code",
   "execution_count": 6,
   "id": "0acd5d4a",
   "metadata": {},
   "outputs": [
    {
     "data": {
      "text/plain": [
       "Date\n",
       "2021-09-30    39387\n",
       "2021-10-29    38126\n",
       "2021-11-30    36757\n",
       "2021-12-30    39153\n",
       "2022-01-28    35656\n",
       "2022-02-28    36005\n",
       "2022-03-31    36472\n",
       "2022-04-29    35433\n",
       "2022-05-31    35363\n",
       "2022-06-30    30808\n",
       "2022-07-29    32385\n",
       "2022-08-31    32230\n",
       "2022-09-30    28275\n",
       "Name: Close, dtype: int64"
      ]
     },
     "execution_count": 6,
     "metadata": {},
     "output_type": "execute_result"
    }
   ],
   "source": [
    "priceOnRebalDate =  kodex200.loc[rebalDate]\n",
    "priceOnRebalDate"
   ]
  },
  {
   "cell_type": "code",
   "execution_count": 20,
   "id": "b2b59f66",
   "metadata": {},
   "outputs": [
    {
     "data": {
      "text/plain": [
       "'2022-09-30 00:00:00'"
      ]
     },
     "execution_count": 20,
     "metadata": {},
     "output_type": "execute_result"
    }
   ],
   "source": [
    "str(rebalDate[-1])"
   ]
  },
  {
   "cell_type": "code",
   "execution_count": 7,
   "id": "69063455",
   "metadata": {},
   "outputs": [],
   "source": [
    "SY,SM,SD = getDay(str(rebalDate[-1]))\n",
    "n=12\n",
    "mY = SY\n",
    "mM = SM\n",
    "\n",
    "if SM-n <1:\n",
    "    mY = SY-1\n",
    "    mM = 12+SM -n\n",
    "\n",
    "standardDay = str(rebalDate[-1])\n",
    "newDay=str(mY)+\"-\"+str(mM).zfill(2)"
   ]
  },
  {
   "cell_type": "code",
   "execution_count": 8,
   "id": "345b9b1b",
   "metadata": {},
   "outputs": [
    {
     "data": {
      "text/plain": [
       "'2022-09-30 00:00:00'"
      ]
     },
     "execution_count": 8,
     "metadata": {},
     "output_type": "execute_result"
    }
   ],
   "source": [
    "standardDay"
   ]
  },
  {
   "cell_type": "code",
   "execution_count": 9,
   "id": "a77cff1b",
   "metadata": {},
   "outputs": [
    {
     "data": {
      "text/plain": [
       "'2021-09'"
      ]
     },
     "execution_count": 9,
     "metadata": {},
     "output_type": "execute_result"
    }
   ],
   "source": [
    "newDay"
   ]
  },
  {
   "cell_type": "code",
   "execution_count": 10,
   "id": "4832cfb1",
   "metadata": {},
   "outputs": [],
   "source": [
    "this_month = int(priceOnRebalDate[standardDay])"
   ]
  },
  {
   "cell_type": "code",
   "execution_count": 11,
   "id": "224a435b",
   "metadata": {},
   "outputs": [],
   "source": [
    "last_n_month = int(priceOnRebalDate[newDay])"
   ]
  },
  {
   "cell_type": "code",
   "execution_count": 12,
   "id": "06443b8e",
   "metadata": {},
   "outputs": [
    {
     "name": "stdout",
     "output_type": "stream",
     "text": [
      "0.7178764566989108\n"
     ]
    }
   ],
   "source": [
    "print(this_month/last_n_month)"
   ]
  },
  {
   "cell_type": "markdown",
   "id": "c66934d0",
   "metadata": {},
   "source": [
    "# 2. 채권"
   ]
  },
  {
   "cell_type": "code",
   "execution_count": 237,
   "id": "77d45604",
   "metadata": {},
   "outputs": [
    {
     "data": {
      "text/plain": [
       "Date\n",
       "2021-09-01    70455\n",
       "2021-09-02    70450\n",
       "2021-09-03    70425\n",
       "2021-09-06    70295\n",
       "2021-09-07    70270\n",
       "              ...  \n",
       "2022-09-26    59390\n",
       "2022-09-27    59915\n",
       "2022-09-28    59775\n",
       "2022-09-29    59770\n",
       "2022-09-30    60035\n",
       "Name: Close, Length: 266, dtype: int64"
      ]
     },
     "execution_count": 237,
     "metadata": {},
     "output_type": "execute_result"
    }
   ],
   "source": [
    "kodex10Bond = getCloseData(\"152380\", \"2021-9-1\",\"2022-9-30\")\n",
    "kodex10Bond"
   ]
  },
  {
   "cell_type": "code",
   "execution_count": 238,
   "id": "7cefb770",
   "metadata": {},
   "outputs": [
    {
     "data": {
      "text/plain": [
       "DatetimeIndex(['2021-09-30', '2021-10-29', '2021-11-30', '2021-12-30',\n",
       "               '2022-01-28', '2022-02-28', '2022-03-31', '2022-04-29',\n",
       "               '2022-05-31', '2022-06-30', '2022-07-29', '2022-08-31',\n",
       "               '2022-09-30'],\n",
       "              dtype='datetime64[ns]', name='Date', freq=None)"
      ]
     },
     "execution_count": 238,
     "metadata": {},
     "output_type": "execute_result"
    }
   ],
   "source": [
    "rebalDate = getRebalancingDate(kodex10Bond)\n",
    "rebalDate"
   ]
  },
  {
   "cell_type": "code",
   "execution_count": 239,
   "id": "79a5b374",
   "metadata": {},
   "outputs": [
    {
     "data": {
      "text/plain": [
       "Date\n",
       "2021-09-30    68745\n",
       "2021-10-29    69400\n",
       "2021-11-30    68970\n",
       "2021-12-30    68840\n",
       "2022-01-28    66970\n",
       "2022-02-28    66685\n",
       "2022-03-31    65130\n",
       "2022-04-29    63870\n",
       "2022-05-31    63640\n",
       "2022-06-30    62025\n",
       "2022-07-29    64915\n",
       "2022-08-31    61935\n",
       "2022-09-30    60035\n",
       "Name: Close, dtype: int64"
      ]
     },
     "execution_count": 239,
     "metadata": {},
     "output_type": "execute_result"
    }
   ],
   "source": [
    "priceOnRebalDate =  kodex10Bond.loc[rebalDate]\n",
    "priceOnRebalDate"
   ]
  },
  {
   "cell_type": "code",
   "execution_count": 240,
   "id": "1e2cf0a0",
   "metadata": {},
   "outputs": [],
   "source": [
    "SY,SM,SD = getDay(str(rebalDate[-1]))\n",
    "n=12\n",
    "mY = SY\n",
    "mM = SM\n",
    "\n",
    "if SM-n <1:\n",
    "    mY = SY-1\n",
    "    mM = 12+SM -n\n",
    "\n",
    "standardDay = str(rebalDate[-1])\n",
    "newDay=str(mY)+\"-\"+str(mM).zfill(2)"
   ]
  },
  {
   "cell_type": "code",
   "execution_count": 241,
   "id": "5c39b70f",
   "metadata": {},
   "outputs": [
    {
     "data": {
      "text/plain": [
       "'2022-09-30 00:00:00'"
      ]
     },
     "execution_count": 241,
     "metadata": {},
     "output_type": "execute_result"
    }
   ],
   "source": [
    "standardDay"
   ]
  },
  {
   "cell_type": "code",
   "execution_count": 242,
   "id": "01617486",
   "metadata": {},
   "outputs": [
    {
     "data": {
      "text/plain": [
       "'2021-09'"
      ]
     },
     "execution_count": 242,
     "metadata": {},
     "output_type": "execute_result"
    }
   ],
   "source": [
    "newDay"
   ]
  },
  {
   "cell_type": "code",
   "execution_count": 243,
   "id": "ec8f1c07",
   "metadata": {},
   "outputs": [],
   "source": [
    "this_month = int(priceOnRebalDate[standardDay])"
   ]
  },
  {
   "cell_type": "code",
   "execution_count": 244,
   "id": "f6cae241",
   "metadata": {},
   "outputs": [],
   "source": [
    "last_n_month = int(priceOnRebalDate[newDay])"
   ]
  },
  {
   "cell_type": "code",
   "execution_count": 245,
   "id": "4eac3d7e",
   "metadata": {},
   "outputs": [
    {
     "name": "stdout",
     "output_type": "stream",
     "text": [
      "0.873299876354644\n"
     ]
    }
   ],
   "source": [
    "print(this_month/last_n_month)"
   ]
  },
  {
   "cell_type": "markdown",
   "id": "6f9a3bd3",
   "metadata": {},
   "source": [
    "# 함수화1"
   ]
  },
  {
   "cell_type": "code",
   "execution_count": 21,
   "id": "77ae7795",
   "metadata": {},
   "outputs": [],
   "source": [
    "def getMomentumScore(ticker, start, end,n):\n",
    "    data = getCloseData(ticker,start,end)\n",
    "    rebalDate = getRebalancingDate(data)\n",
    "    priceOnRebalDate =  data.loc[rebalDate]\n",
    "    \n",
    "    SY,SM,SD = getDay(str(rebalDate[-1]))\n",
    "\n",
    "    mY = SY\n",
    "    mM = SM\n",
    "\n",
    "    if SM-n <1:\n",
    "        mY = SY-1\n",
    "        mM = 12+SM -n\n",
    "    else :\n",
    "        mM = SM-n\n",
    "\n",
    "    standardDay =str(SY)+\"-\"+str(SM).zfill(2)+\"-\"+str(SD).zfill(2)\n",
    "    newDay=str(mY)+\"-\"+str(mM).zfill(2)\n",
    "\n",
    "    this_month = int(priceOnRebalDate[standardDay])\n",
    "    last_n_month = int(priceOnRebalDate[newDay])\n",
    "   \n",
    "    return standardDay,newDay,this_month/last_n_month"
   ]
  },
  {
   "cell_type": "code",
   "execution_count": 22,
   "id": "98b108b6",
   "metadata": {},
   "outputs": [
    {
     "data": {
      "text/plain": [
       "('2022-09-30', '2021-09', 0.7178764566989108)"
      ]
     },
     "execution_count": 22,
     "metadata": {},
     "output_type": "execute_result"
    }
   ],
   "source": [
    "# 주식 \n",
    "getMomentumScore(\"069500\", \"2021-9-1\",\"2022-9-30\",12)"
   ]
  },
  {
   "cell_type": "code",
   "execution_count": 23,
   "id": "ec174f19",
   "metadata": {},
   "outputs": [
    {
     "data": {
      "text/plain": [
       "('2022-09-30', '2021-09', 0.873299876354644)"
      ]
     },
     "execution_count": 23,
     "metadata": {},
     "output_type": "execute_result"
    }
   ],
   "source": [
    "# 채권\n",
    "getMomentumScore(\"152380\", \"2021-9-1\",\"2022-9-30\",12)"
   ]
  },
  {
   "cell_type": "code",
   "execution_count": 24,
   "id": "236ea598",
   "metadata": {},
   "outputs": [
    {
     "data": {
      "text/plain": [
       "('2022-09-30', '2022-08', 0.8772882407694694)"
      ]
     },
     "execution_count": 24,
     "metadata": {},
     "output_type": "execute_result"
    }
   ],
   "source": [
    "getMomentumScore(\"069500\", \"2021-9-1\",\"2022-9-30\",1)"
   ]
  },
  {
   "cell_type": "markdown",
   "id": "ce64029d",
   "metadata": {},
   "source": [
    "# 평균 모멘텀"
   ]
  },
  {
   "cell_type": "code",
   "execution_count": 45,
   "id": "bda43a41",
   "metadata": {},
   "outputs": [
    {
     "name": "stdout",
     "output_type": "stream",
     "text": [
      "1 모멘텀 스코어  2022-07-29 / 2022-06  :  1.0511880031160739 1.0465941152760982\n",
      "\n",
      "2 모멘텀 스코어  2022-07-29 / 2022-05  :  0.9157876876961796 1.020034569453174\n",
      "\n",
      "3 모멘텀 스코어  2022-07-29 / 2022-04  :  0.9139784946236559 1.01636135901049\n",
      "\n",
      "4 모멘텀 스코어  2022-07-29 / 2022-03  :  0.8879414345251152 0.9966989098725626\n",
      "\n",
      "5 모멘텀 스코어  2022-07-29 / 2022-02  :  0.8994584085543674 0.9734572992427083\n",
      "\n",
      "6 모멘텀 스코어  2022-07-29 / 2022-01  :  0.9082622840475656 0.9693146184858892\n",
      "\n",
      "7 모멘텀 스코어  2022-07-29 / 2021-12  :  0.8271396827829285 0.9429837303893085\n",
      "\n",
      "8 모멘텀 스코어  2022-07-29 / 2021-11  :  0.8810566694779226 0.9412063215890967\n",
      "\n",
      "9 모멘텀 스코어  2022-07-29 / 2021-10  :  0.8494203430729685 0.9353746397694525\n",
      "\n",
      "10 모멘텀 스코어  2022-07-29 / 2021-09  :  0.8222256074339249 0.94428685722598\n",
      "\n",
      "11 모멘텀 스코어  2022-07-29 / 2021-08  :  0.7871709486886561 0.9186951599207472\n",
      "\n",
      "12 모멘텀 스코어  2022-07-29 / 2021-07  :  0.7779058874396484 0.9176562058241448\n",
      "\n",
      "0.08333333333333333 0.25\n"
     ]
    }
   ],
   "source": [
    "kodex200 =[]\n",
    "kodex10Bond =[]\n",
    "\n",
    "n =12\n",
    "\n",
    "for i in range(1, n+1):\n",
    "    Standard,New,a= getMomentumScore(\"069500\", \"2020-1-2\",\"2022-07-29\",i)\n",
    "    Standard,New,b= getMomentumScore(\"152380\",  \"2020-1-2\",\"2022-07-29\",i)\n",
    "    \n",
    "    print(i,\"모멘텀 스코어 \",Standard,\"/\",New,\" : \", a,b)\n",
    "    print(\"\")\n",
    "    kodex200.append(int(a))\n",
    "    kodex10Bond.append(int(b))\n",
    "    \n",
    "print(sum(kodex200)/n , sum(kodex10Bond)/n)\n"
   ]
  },
  {
   "cell_type": "code",
   "execution_count": 29,
   "id": "aa4559cf",
   "metadata": {},
   "outputs": [
    {
     "data": {
      "text/plain": [
       "[1, 0, 0, 0, 0, 0, 0, 0, 0, 0, 0, 0]"
      ]
     },
     "execution_count": 29,
     "metadata": {},
     "output_type": "execute_result"
    }
   ],
   "source": [
    "kodex200"
   ]
  },
  {
   "cell_type": "code",
   "execution_count": 30,
   "id": "92844f4a",
   "metadata": {},
   "outputs": [
    {
     "data": {
      "text/plain": [
       "[1, 1, 1, 0, 0, 0, 0, 0, 0, 0, 0, 0]"
      ]
     },
     "execution_count": 30,
     "metadata": {},
     "output_type": "execute_result"
    }
   ],
   "source": [
    "kodex10Bond"
   ]
  },
  {
   "cell_type": "code",
   "execution_count": 40,
   "id": "347fbedf",
   "metadata": {},
   "outputs": [
    {
     "data": {
      "text/plain": [
       "0.08333333333333333"
      ]
     },
     "execution_count": 40,
     "metadata": {},
     "output_type": "execute_result"
    }
   ],
   "source": [
    "sum(kodex200)/12"
   ]
  },
  {
   "cell_type": "code",
   "execution_count": 44,
   "id": "2ab6a739",
   "metadata": {},
   "outputs": [
    {
     "data": {
      "text/plain": [
       "12"
      ]
     },
     "execution_count": 44,
     "metadata": {},
     "output_type": "execute_result"
    }
   ],
   "source": [
    "len(kodex200)"
   ]
  },
  {
   "cell_type": "markdown",
   "id": "922e7d2a",
   "metadata": {},
   "source": [
    "# 함수화2"
   ]
  },
  {
   "cell_type": "code",
   "execution_count": 46,
   "id": "da4965bb",
   "metadata": {},
   "outputs": [],
   "source": [
    "def getMomentumScore(ticker, start, end,n):\n",
    "    data = getCloseData(ticker,start,end)\n",
    "    rebalDate = getRebalancingDate(data)\n",
    "    priceOnRebalDate =  data.loc[rebalDate]\n",
    "    \n",
    "    SY,SM,SD = getDay(str(rebalDate[-1]))\n",
    "\n",
    "    mY = SY\n",
    "    mM = SM\n",
    "\n",
    "    if SM-n <1:\n",
    "        mY = SY-1\n",
    "        mM = 12+SM -n\n",
    "    else :\n",
    "        mM = SM-n\n",
    "\n",
    "    standardDay =str(SY)+\"-\"+str(SM).zfill(2)+\"-\"+str(SD).zfill(2)\n",
    "    newDay=str(mY)+\"-\"+str(mM).zfill(2)\n",
    "\n",
    "    this_month = int(priceOnRebalDate[standardDay])\n",
    "    last_n_month = int(priceOnRebalDate[newDay])\n",
    "   \n",
    "    return standardDay,newDay,this_month/last_n_month"
   ]
  },
  {
   "cell_type": "code",
   "execution_count": 47,
   "id": "31c66df2",
   "metadata": {},
   "outputs": [],
   "source": [
    "def getAvgMomentumScore(ticker, start, end, n):\n",
    "    li =[]\n",
    "\n",
    "    for i in range(1, n+1):\n",
    "        Standard,New,a= getMomentumScore(ticker, start,end,i)\n",
    "\n",
    "        #print(i,\"모멘텀 스코어 \",Standard,\"/\",New,\" : \", a,b)\n",
    "        #print(\"\")\n",
    "        li.append(int(a))\n",
    "\n",
    "    return sum(li)/n \n"
   ]
  },
  {
   "cell_type": "code",
   "execution_count": 49,
   "id": "214da549",
   "metadata": {},
   "outputs": [
    {
     "data": {
      "text/plain": [
       "0.25"
      ]
     },
     "execution_count": 49,
     "metadata": {},
     "output_type": "execute_result"
    }
   ],
   "source": [
    "getAvgMomentumScore(\"152380\", \"2020-1-2\",\"2022-07-29\",12)"
   ]
  },
  {
   "cell_type": "markdown",
   "id": "82838d5d",
   "metadata": {},
   "source": [
    "# test"
   ]
  },
  {
   "cell_type": "code",
   "execution_count": 50,
   "id": "6bb71527",
   "metadata": {},
   "outputs": [
    {
     "data": {
      "text/plain": [
       "0.08333333333333333"
      ]
     },
     "execution_count": 50,
     "metadata": {},
     "output_type": "execute_result"
    }
   ],
   "source": [
    "getAvgMomentumScore(\"069500\", \"2020\", \"2022-7-30\",12)"
   ]
  },
  {
   "cell_type": "code",
   "execution_count": null,
   "id": "0408559d",
   "metadata": {},
   "outputs": [],
   "source": []
  }
 ],
 "metadata": {
  "kernelspec": {
   "display_name": "Python 3 (ipykernel)",
   "language": "python",
   "name": "python3"
  },
  "language_info": {
   "codemirror_mode": {
    "name": "ipython",
    "version": 3
   },
   "file_extension": ".py",
   "mimetype": "text/x-python",
   "name": "python",
   "nbconvert_exporter": "python",
   "pygments_lexer": "ipython3",
   "version": "3.9.12"
  }
 },
 "nbformat": 4,
 "nbformat_minor": 5
}
