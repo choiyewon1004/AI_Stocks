{
 "cells": [
  {
   "cell_type": "markdown",
   "id": "a3beb436",
   "metadata": {},
   "source": [
    "# 채권"
   ]
  },
  {
   "cell_type": "code",
   "execution_count": null,
   "id": "587f6ad6",
   "metadata": {},
   "outputs": [],
   "source": []
  },
  {
   "cell_type": "code",
   "execution_count": null,
   "id": "01e03dbc",
   "metadata": {},
   "outputs": [],
   "source": []
  },
  {
   "cell_type": "markdown",
   "id": "08f487a8",
   "metadata": {},
   "source": [
    "# ETF"
   ]
  },
  {
   "cell_type": "code",
   "execution_count": null,
   "id": "5122b235",
   "metadata": {},
   "outputs": [],
   "source": []
  }
 ],
 "metadata": {
  "kernelspec": {
   "display_name": "Python 3 (ipykernel)",
   "language": "python",
   "name": "python3"
  },
  "language_info": {
   "codemirror_mode": {
    "name": "ipython",
    "version": 3
   },
   "file_extension": ".py",
   "mimetype": "text/x-python",
   "name": "python",
   "nbconvert_exporter": "python",
   "pygments_lexer": "ipython3",
   "version": "3.9.12"
  }
 },
 "nbformat": 4,
 "nbformat_minor": 5
}
