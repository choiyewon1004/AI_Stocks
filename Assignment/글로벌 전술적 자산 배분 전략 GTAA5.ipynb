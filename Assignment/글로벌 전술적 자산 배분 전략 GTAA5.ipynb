{
 "cells": [
  {
   "cell_type": "markdown",
   "metadata": {
    "id": "MdQ4NceBIZmk"
   },
   "source": [
    "# 4) 글로벌 전술적 자산 배분 전략 GTAA5"
   ]
  },
  {
   "cell_type": "code",
   "execution_count": 1,
   "metadata": {
    "colab": {
     "base_uri": "https://localhost:8080/"
    },
    "executionInfo": {
     "elapsed": 21374,
     "status": "ok",
     "timestamp": 1667849997811,
     "user": {
      "displayName": "yewon choi",
      "userId": "13185614265759869235"
     },
     "user_tz": -540
    },
    "id": "UvLN9w-hINSj",
    "outputId": "6a2b8741-bbdf-46ed-d749-072f878b7e31"
   },
   "outputs": [
    {
     "name": "stdout",
     "output_type": "stream",
     "text": [
      "Looking in indexes: https://pypi.org/simple, https://us-python.pkg.dev/colab-wheels/public/simple/\n",
      "Collecting finance-datareader==0.9.42\n",
      "  Downloading finance_datareader-0.9.42-py3-none-any.whl (17 kB)\n",
      "Requirement already satisfied: tqdm in /usr/local/lib/python3.7/dist-packages (from finance-datareader==0.9.42) (4.64.1)\n",
      "Collecting requests-file\n",
      "  Downloading requests_file-1.5.1-py2.py3-none-any.whl (3.7 kB)\n",
      "Requirement already satisfied: pandas>=0.19.2 in /usr/local/lib/python3.7/dist-packages (from finance-datareader==0.9.42) (1.3.5)\n",
      "Requirement already satisfied: requests>=2.3.0 in /usr/local/lib/python3.7/dist-packages (from finance-datareader==0.9.42) (2.23.0)\n",
      "Requirement already satisfied: lxml in /usr/local/lib/python3.7/dist-packages (from finance-datareader==0.9.42) (4.9.1)\n",
      "Requirement already satisfied: numpy>=1.17.3 in /usr/local/lib/python3.7/dist-packages (from pandas>=0.19.2->finance-datareader==0.9.42) (1.21.6)\n",
      "Requirement already satisfied: pytz>=2017.3 in /usr/local/lib/python3.7/dist-packages (from pandas>=0.19.2->finance-datareader==0.9.42) (2022.5)\n",
      "Requirement already satisfied: python-dateutil>=2.7.3 in /usr/local/lib/python3.7/dist-packages (from pandas>=0.19.2->finance-datareader==0.9.42) (2.8.2)\n",
      "Requirement already satisfied: six>=1.5 in /usr/local/lib/python3.7/dist-packages (from python-dateutil>=2.7.3->pandas>=0.19.2->finance-datareader==0.9.42) (1.15.0)\n",
      "Requirement already satisfied: urllib3!=1.25.0,!=1.25.1,<1.26,>=1.21.1 in /usr/local/lib/python3.7/dist-packages (from requests>=2.3.0->finance-datareader==0.9.42) (1.24.3)\n",
      "Requirement already satisfied: chardet<4,>=3.0.2 in /usr/local/lib/python3.7/dist-packages (from requests>=2.3.0->finance-datareader==0.9.42) (3.0.4)\n",
      "Requirement already satisfied: idna<3,>=2.5 in /usr/local/lib/python3.7/dist-packages (from requests>=2.3.0->finance-datareader==0.9.42) (2.10)\n",
      "Requirement already satisfied: certifi>=2017.4.17 in /usr/local/lib/python3.7/dist-packages (from requests>=2.3.0->finance-datareader==0.9.42) (2022.9.24)\n",
      "Installing collected packages: requests-file, finance-datareader\n",
      "Successfully installed finance-datareader-0.9.42 requests-file-1.5.1\n",
      "Looking in indexes: https://pypi.org/simple, https://us-python.pkg.dev/colab-wheels/public/simple/\n",
      "Collecting pandas-datareader==0.10.0\n",
      "  Downloading pandas_datareader-0.10.0-py3-none-any.whl (109 kB)\n",
      "\u001b[K     |████████████████████████████████| 109 kB 5.3 MB/s \n",
      "\u001b[?25hRequirement already satisfied: pandas>=0.23 in /usr/local/lib/python3.7/dist-packages (from pandas-datareader==0.10.0) (1.3.5)\n",
      "Requirement already satisfied: requests>=2.19.0 in /usr/local/lib/python3.7/dist-packages (from pandas-datareader==0.10.0) (2.23.0)\n",
      "Requirement already satisfied: lxml in /usr/local/lib/python3.7/dist-packages (from pandas-datareader==0.10.0) (4.9.1)\n",
      "Requirement already satisfied: numpy>=1.17.3 in /usr/local/lib/python3.7/dist-packages (from pandas>=0.23->pandas-datareader==0.10.0) (1.21.6)\n",
      "Requirement already satisfied: pytz>=2017.3 in /usr/local/lib/python3.7/dist-packages (from pandas>=0.23->pandas-datareader==0.10.0) (2022.5)\n",
      "Requirement already satisfied: python-dateutil>=2.7.3 in /usr/local/lib/python3.7/dist-packages (from pandas>=0.23->pandas-datareader==0.10.0) (2.8.2)\n",
      "Requirement already satisfied: six>=1.5 in /usr/local/lib/python3.7/dist-packages (from python-dateutil>=2.7.3->pandas>=0.23->pandas-datareader==0.10.0) (1.15.0)\n",
      "Requirement already satisfied: certifi>=2017.4.17 in /usr/local/lib/python3.7/dist-packages (from requests>=2.19.0->pandas-datareader==0.10.0) (2022.9.24)\n",
      "Requirement already satisfied: idna<3,>=2.5 in /usr/local/lib/python3.7/dist-packages (from requests>=2.19.0->pandas-datareader==0.10.0) (2.10)\n",
      "Requirement already satisfied: chardet<4,>=3.0.2 in /usr/local/lib/python3.7/dist-packages (from requests>=2.19.0->pandas-datareader==0.10.0) (3.0.4)\n",
      "Requirement already satisfied: urllib3!=1.25.0,!=1.25.1,<1.26,>=1.21.1 in /usr/local/lib/python3.7/dist-packages (from requests>=2.19.0->pandas-datareader==0.10.0) (1.24.3)\n",
      "Installing collected packages: pandas-datareader\n",
      "  Attempting uninstall: pandas-datareader\n",
      "    Found existing installation: pandas-datareader 0.9.0\n",
      "    Uninstalling pandas-datareader-0.9.0:\n",
      "      Successfully uninstalled pandas-datareader-0.9.0\n",
      "Successfully installed pandas-datareader-0.10.0\n"
     ]
    }
   ],
   "source": [
    "!pip3 install finance-datareader==0.9.42\n",
    "!pip3 install pandas-datareader==0.10.0"
   ]
  },
  {
   "cell_type": "code",
   "execution_count": 2,
   "metadata": {
    "executionInfo": {
     "elapsed": 1412,
     "status": "ok",
     "timestamp": 1667849999220,
     "user": {
      "displayName": "yewon choi",
      "userId": "13185614265759869235"
     },
     "user_tz": -540
    },
    "id": "jWCyrEmKIRWJ"
   },
   "outputs": [],
   "source": [
    "import FinanceDataReader as fdr\n",
    "import pandas_datareader.data as web\n",
    "from pandas_datareader import data\n",
    "import pandas as pd\n",
    "import matplotlib.pyplot as plt\n",
    "import numpy as np\n",
    "import math"
   ]
  },
  {
   "cell_type": "code",
   "execution_count": 3,
   "metadata": {
    "executionInfo": {
     "elapsed": 3,
     "status": "ok",
     "timestamp": 1667849999220,
     "user": {
      "displayName": "yewon choi",
      "userId": "13185614265759869235"
     },
     "user_tz": -540
    },
    "id": "sfqMVmrrIYoP"
   },
   "outputs": [],
   "source": [
    "def getCloseData(ticker, start, end=None):\n",
    "    return fdr.DataReader(ticker, start, end)['Close']\n",
    "\n",
    "def getCloseDataPandas(ticker, start, end):\n",
    "    return data.get_data_yahoo(ticker, start, end)['Close']\n",
    "\n",
    "\n",
    "def getDayReturn(closeDataSet):\n",
    "    return (closeDataSet / closeDataSet.shift(1)).fillna(1)\n",
    "\n",
    "\n",
    "def getCumulativeReturn(closeDataSet):\n",
    "    return closeDataSet / closeDataSet.iloc[0]\n",
    "\n",
    "\n",
    "def getPortfolioResult(closeDataSet, weight=None):\n",
    "\n",
    "    dayReturn = getDayReturn(closeDataSet)\n",
    "    cumulativeReturn = getCumulativeReturn(closeDataSet)\n",
    "\n",
    "    if not weight:\n",
    "        weight = [1/len(closeDataSet.columns)] * len(closeDataSet.columns)\n",
    "\n",
    "    portfolioCumulativeReturn = (weight * cumulativeReturn).sum(axis=1)\n",
    "    portfolioDayReturn = (portfolioCumulativeReturn / portfolioCumulativeReturn.shift(1)).fillna(1)\n",
    "\n",
    "    return portfolioDayReturn, portfolioCumulativeReturn\n",
    "\n",
    "\n",
    "def getEvaluation(cumulativeReturn):\n",
    "\n",
    "    cagr = cumulativeReturn.iloc[-1] ** (252/len(cumulativeReturn))\n",
    "    dd = (cumulativeReturn.cummax() - cumulativeReturn) / cumulativeReturn.cummax() * 100\n",
    "    mdd= dd.max()\n",
    "\n",
    "    print(f\"최종 수익률: {cumulativeReturn.iloc[-1]}\\ncagr: {cagr}\\nmdd: {mdd}\")\n",
    "\n",
    "    return cagr, dd, mdd\n",
    "\n",
    "\n",
    "def getRebalancingDate(closeDataSet, period=\"month\"):\n",
    "\n",
    "    data = closeDataSet.copy()\n",
    "    data = pd.DataFrame(data) # 시리즈형 데이터가 들어오더라도 리밸런싱 날짜를 계산하기\n",
    "    data.index = pd.to_datetime(data.index)\n",
    "    data['year'] = data.index.year\n",
    "    data['month'] = data.index.month\n",
    "    # 월말 리밸런싱\n",
    "    if period == \"month\":\n",
    "        rebalancingDate = data.drop_duplicates(['year', 'month'], keep=\"last\").index\n",
    "    if period == \"quarter\":\n",
    "        quarter = [3,6,9,12]\n",
    "        data = data.loc[data['month'].isin(quarter)]\n",
    "        rebalancingDate = data.drop_duplicates(['year', 'month'], keep=\"last\").index\n",
    "    if period == \"year\":\n",
    "        # rebalancingDate = data.drop_duplicates(['year'], keep=\"last\").index\n",
    "        rebalancingDate = data.drop_duplicates(['year', 'month'], keep=\"last\")\n",
    "        check = int(rebalancingDate.iloc[len(rebalancingDate)-1].to_list()[len(rebalancingDate.columns)-1])\n",
    "        rebalancingDate= rebalancingDate[rebalancingDate['month']==check].index\n",
    "    return rebalancingDate\n",
    "\n",
    "\n",
    "def getRebalancingPortfolioResult(closeDataSet, period = \"month\", weightDf=None):\n",
    "\n",
    "    # 자산별 비중. 기본값: 동일비중\n",
    "    if weightDf is None:\n",
    "        rebalancingDate = getRebalancingDate(closeDataSet, period) # 리밸런싱 날짜\n",
    "        weightDf = pd.DataFrame([[1/len(closeDataSet.columns)] * len(closeDataSet.columns)]\n",
    "                                * len(rebalancingDate),index=rebalancingDate,columns=closeDataSet.columns)\n",
    "        \n",
    "    # 자산별 비중이 있는 경우\n",
    "    else:\n",
    "        closeDataSet = closeDataSet.loc[weightDf.index[0]:]\n",
    "        rebalancingDate = getRebalancingDate(closeDataSet, period) # 리밸런싱 날짜\n",
    "\n",
    "    portfolio = pd.DataFrame() # 빈 데이터 프레임 생성\n",
    "    totalAsset = 1 # 총 자산, 초기값 1\n",
    "    start = rebalancingDate[0] # 리밸런싱 날짜, 초기값 첫 투자일\n",
    "\n",
    "    for end in rebalancingDate[1:]:\n",
    "        weight = weightDf.loc[end] # 당월 리밸런싱 비율\n",
    "        priceData = closeDataSet.loc[start:end] # 당월 가격 데이터\n",
    "        cumReturn = getCumulativeReturn(priceData) # 당월 누적 수익률\n",
    "        weightedCumReturn = weight * cumReturn # 당월 리밸런싱 비율이 반영된 누적 수익\n",
    "        netCumReturn = totalAsset * weightedCumReturn # 전월 투자 결과 반영\n",
    "        start = end # start 갱신\n",
    "        if(netCumReturn.iloc[-1].sum() ==0):\n",
    "            totalAsset =1\n",
    "        else:\n",
    "            totalAsset = netCumReturn.iloc[-1].sum() # 총 자산 갱신\n",
    "        portfolio = pd.concat([portfolio, netCumReturn]) # 매월 데이터 추가\n",
    "\n",
    "    portfolio = portfolio.loc[~portfolio.index.duplicated(keep='last')] # 중복 데이터\n",
    "    portfolioCumulativeReturn = portfolio.sum(axis=1) # 포트폴리오 누적 수익률\n",
    "    portfolioDayReturn = (portfolioCumulativeReturn / portfolioCumulativeReturn.shift(1)).fillna(1)\n",
    "\n",
    "    return portfolioDayReturn, portfolioCumulativeReturn\n",
    "\n",
    "def getDay(str0):\n",
    "    SY = int(str0[:4])\n",
    "    SM = int(str0[5:7])\n",
    "    SD = int(str0[8:10])\n",
    "    return SY,SM,SD "
   ]
  },
  {
   "cell_type": "code",
   "execution_count": 4,
   "metadata": {
    "executionInfo": {
     "elapsed": 3,
     "status": "ok",
     "timestamp": 1667849999220,
     "user": {
      "displayName": "yewon choi",
      "userId": "13185614265759869235"
     },
     "user_tz": -540
    },
    "id": "IKq2kdZoI1Wz"
   },
   "outputs": [],
   "source": [
    "def avgMomentumScoretable(data, n=12, name=\"Close\"):\n",
    "  result = pd.DataFrame(data)\n",
    "\n",
    "  if len(result.columns) ==1 :  \n",
    "    result.columns = [name+\"_m\"]\n",
    "    for i in range(len(data)-1,-1,-1):\n",
    "      tmp =0\n",
    "      if i>(n-1):\n",
    "        for j in range(i-1,i-n-1, -1):\n",
    "          if data[i]>data[j] : tmp = tmp+1\n",
    "      result[name+\"_m\"][i] = tmp\n",
    "  else : \n",
    "    name_list = result.columns\n",
    "    for i in range(0, len(name_list)):\n",
    "      result = pd.concat(   [result,avgMomentumScoretable(data[name_list[i]],n, name_list[i])/n] , axis=1 )\n",
    "      result = result.drop([name_list[i]], axis=1)\n",
    "    result.columns = name_list\n",
    "\n",
    "  return  result[n:]"
   ]
  },
  {
   "cell_type": "code",
   "execution_count": 5,
   "metadata": {
    "executionInfo": {
     "elapsed": 2,
     "status": "ok",
     "timestamp": 1667849999220,
     "user": {
      "displayName": "yewon choi",
      "userId": "13185614265759869235"
     },
     "user_tz": -540
    },
    "id": "KV8eSWNsLPXu"
   },
   "outputs": [],
   "source": [
    "def weightScore(data):\n",
    "  weight = data.divide(data.sum(axis=1), axis=0).fillna(0)\n",
    "  # weight['cash'] = np.where(weight.sum(axis=1) == 0,1,0)\n",
    "  return weight"
   ]
  },
  {
   "cell_type": "code",
   "execution_count": 27,
   "metadata": {
    "executionInfo": {
     "elapsed": 305,
     "status": "ok",
     "timestamp": 1667851023278,
     "user": {
      "displayName": "yewon choi",
      "userId": "13185614265759869235"
     },
     "user_tz": -540
    },
    "id": "drQsWJ8EUwwR"
   },
   "outputs": [],
   "source": [
    "start = \"2010\"\n",
    "end = \"2022-10-31\""
   ]
  },
  {
   "cell_type": "code",
   "execution_count": 28,
   "metadata": {
    "colab": {
     "base_uri": "https://localhost:8080/",
     "height": 455
    },
    "executionInfo": {
     "elapsed": 4015,
     "status": "ok",
     "timestamp": 1667851027966,
     "user": {
      "displayName": "yewon choi",
      "userId": "13185614265759869235"
     },
     "user_tz": -540
    },
    "id": "CYI3Sg0LIeJ0",
    "outputId": "9a848d79-d814-453d-84ba-7d5dd52686e9"
   },
   "outputs": [
    {
     "data": {
      "text/html": [
       "\n",
       "  <div id=\"df-f6ad3a36-3cf7-4df0-9ed6-acf3b72fb3c9\">\n",
       "    <div class=\"colab-df-container\">\n",
       "      <div>\n",
       "<style scoped>\n",
       "    .dataframe tbody tr th:only-of-type {\n",
       "        vertical-align: middle;\n",
       "    }\n",
       "\n",
       "    .dataframe tbody tr th {\n",
       "        vertical-align: top;\n",
       "    }\n",
       "\n",
       "    .dataframe thead th {\n",
       "        text-align: right;\n",
       "    }\n",
       "</style>\n",
       "<table border=\"1\" class=\"dataframe\">\n",
       "  <thead>\n",
       "    <tr style=\"text-align: right;\">\n",
       "      <th></th>\n",
       "      <th>SPY</th>\n",
       "      <th>EFA</th>\n",
       "      <th>IEF</th>\n",
       "      <th>DBC</th>\n",
       "      <th>VNQ</th>\n",
       "      <th>cash</th>\n",
       "    </tr>\n",
       "    <tr>\n",
       "      <th>Date</th>\n",
       "      <th></th>\n",
       "      <th></th>\n",
       "      <th></th>\n",
       "      <th></th>\n",
       "      <th></th>\n",
       "      <th></th>\n",
       "    </tr>\n",
       "  </thead>\n",
       "  <tbody>\n",
       "    <tr>\n",
       "      <th>2010-01-04</th>\n",
       "      <td>113.330002</td>\n",
       "      <td>56.730000</td>\n",
       "      <td>88.820000</td>\n",
       "      <td>25.240000</td>\n",
       "      <td>44.549999</td>\n",
       "      <td>1</td>\n",
       "    </tr>\n",
       "    <tr>\n",
       "      <th>2010-01-05</th>\n",
       "      <td>113.629997</td>\n",
       "      <td>56.779999</td>\n",
       "      <td>89.209999</td>\n",
       "      <td>25.270000</td>\n",
       "      <td>44.500000</td>\n",
       "      <td>1</td>\n",
       "    </tr>\n",
       "    <tr>\n",
       "      <th>2010-01-06</th>\n",
       "      <td>113.709999</td>\n",
       "      <td>57.020000</td>\n",
       "      <td>88.849998</td>\n",
       "      <td>25.719999</td>\n",
       "      <td>44.419998</td>\n",
       "      <td>1</td>\n",
       "    </tr>\n",
       "    <tr>\n",
       "      <th>2010-01-07</th>\n",
       "      <td>114.190002</td>\n",
       "      <td>56.799999</td>\n",
       "      <td>88.849998</td>\n",
       "      <td>25.400000</td>\n",
       "      <td>44.900002</td>\n",
       "      <td>1</td>\n",
       "    </tr>\n",
       "    <tr>\n",
       "      <th>2010-01-08</th>\n",
       "      <td>114.570000</td>\n",
       "      <td>57.250000</td>\n",
       "      <td>88.959999</td>\n",
       "      <td>25.379999</td>\n",
       "      <td>44.570000</td>\n",
       "      <td>1</td>\n",
       "    </tr>\n",
       "    <tr>\n",
       "      <th>...</th>\n",
       "      <td>...</td>\n",
       "      <td>...</td>\n",
       "      <td>...</td>\n",
       "      <td>...</td>\n",
       "      <td>...</td>\n",
       "      <td>...</td>\n",
       "    </tr>\n",
       "    <tr>\n",
       "      <th>2022-10-25</th>\n",
       "      <td>384.920013</td>\n",
       "      <td>59.279999</td>\n",
       "      <td>94.180000</td>\n",
       "      <td>25.090000</td>\n",
       "      <td>81.209999</td>\n",
       "      <td>1</td>\n",
       "    </tr>\n",
       "    <tr>\n",
       "      <th>2022-10-26</th>\n",
       "      <td>382.019989</td>\n",
       "      <td>59.840000</td>\n",
       "      <td>94.660004</td>\n",
       "      <td>25.559999</td>\n",
       "      <td>81.160004</td>\n",
       "      <td>1</td>\n",
       "    </tr>\n",
       "    <tr>\n",
       "      <th>2022-10-27</th>\n",
       "      <td>379.980011</td>\n",
       "      <td>59.279999</td>\n",
       "      <td>95.330002</td>\n",
       "      <td>25.600000</td>\n",
       "      <td>81.279999</td>\n",
       "      <td>1</td>\n",
       "    </tr>\n",
       "    <tr>\n",
       "      <th>2022-10-28</th>\n",
       "      <td>389.019989</td>\n",
       "      <td>59.869999</td>\n",
       "      <td>94.839996</td>\n",
       "      <td>25.299999</td>\n",
       "      <td>83.070000</td>\n",
       "      <td>1</td>\n",
       "    </tr>\n",
       "    <tr>\n",
       "      <th>2022-10-31</th>\n",
       "      <td>386.209991</td>\n",
       "      <td>59.310001</td>\n",
       "      <td>94.410004</td>\n",
       "      <td>25.120001</td>\n",
       "      <td>82.980003</td>\n",
       "      <td>1</td>\n",
       "    </tr>\n",
       "  </tbody>\n",
       "</table>\n",
       "<p>3230 rows × 6 columns</p>\n",
       "</div>\n",
       "      <button class=\"colab-df-convert\" onclick=\"convertToInteractive('df-f6ad3a36-3cf7-4df0-9ed6-acf3b72fb3c9')\"\n",
       "              title=\"Convert this dataframe to an interactive table.\"\n",
       "              style=\"display:none;\">\n",
       "        \n",
       "  <svg xmlns=\"http://www.w3.org/2000/svg\" height=\"24px\"viewBox=\"0 0 24 24\"\n",
       "       width=\"24px\">\n",
       "    <path d=\"M0 0h24v24H0V0z\" fill=\"none\"/>\n",
       "    <path d=\"M18.56 5.44l.94 2.06.94-2.06 2.06-.94-2.06-.94-.94-2.06-.94 2.06-2.06.94zm-11 1L8.5 8.5l.94-2.06 2.06-.94-2.06-.94L8.5 2.5l-.94 2.06-2.06.94zm10 10l.94 2.06.94-2.06 2.06-.94-2.06-.94-.94-2.06-.94 2.06-2.06.94z\"/><path d=\"M17.41 7.96l-1.37-1.37c-.4-.4-.92-.59-1.43-.59-.52 0-1.04.2-1.43.59L10.3 9.45l-7.72 7.72c-.78.78-.78 2.05 0 2.83L4 21.41c.39.39.9.59 1.41.59.51 0 1.02-.2 1.41-.59l7.78-7.78 2.81-2.81c.8-.78.8-2.07 0-2.86zM5.41 20L4 18.59l7.72-7.72 1.47 1.35L5.41 20z\"/>\n",
       "  </svg>\n",
       "      </button>\n",
       "      \n",
       "  <style>\n",
       "    .colab-df-container {\n",
       "      display:flex;\n",
       "      flex-wrap:wrap;\n",
       "      gap: 12px;\n",
       "    }\n",
       "\n",
       "    .colab-df-convert {\n",
       "      background-color: #E8F0FE;\n",
       "      border: none;\n",
       "      border-radius: 50%;\n",
       "      cursor: pointer;\n",
       "      display: none;\n",
       "      fill: #1967D2;\n",
       "      height: 32px;\n",
       "      padding: 0 0 0 0;\n",
       "      width: 32px;\n",
       "    }\n",
       "\n",
       "    .colab-df-convert:hover {\n",
       "      background-color: #E2EBFA;\n",
       "      box-shadow: 0px 1px 2px rgba(60, 64, 67, 0.3), 0px 1px 3px 1px rgba(60, 64, 67, 0.15);\n",
       "      fill: #174EA6;\n",
       "    }\n",
       "\n",
       "    [theme=dark] .colab-df-convert {\n",
       "      background-color: #3B4455;\n",
       "      fill: #D2E3FC;\n",
       "    }\n",
       "\n",
       "    [theme=dark] .colab-df-convert:hover {\n",
       "      background-color: #434B5C;\n",
       "      box-shadow: 0px 1px 3px 1px rgba(0, 0, 0, 0.15);\n",
       "      filter: drop-shadow(0px 1px 2px rgba(0, 0, 0, 0.3));\n",
       "      fill: #FFFFFF;\n",
       "    }\n",
       "  </style>\n",
       "\n",
       "      <script>\n",
       "        const buttonEl =\n",
       "          document.querySelector('#df-f6ad3a36-3cf7-4df0-9ed6-acf3b72fb3c9 button.colab-df-convert');\n",
       "        buttonEl.style.display =\n",
       "          google.colab.kernel.accessAllowed ? 'block' : 'none';\n",
       "\n",
       "        async function convertToInteractive(key) {\n",
       "          const element = document.querySelector('#df-f6ad3a36-3cf7-4df0-9ed6-acf3b72fb3c9');\n",
       "          const dataTable =\n",
       "            await google.colab.kernel.invokeFunction('convertToInteractive',\n",
       "                                                     [key], {});\n",
       "          if (!dataTable) return;\n",
       "\n",
       "          const docLinkHtml = 'Like what you see? Visit the ' +\n",
       "            '<a target=\"_blank\" href=https://colab.research.google.com/notebooks/data_table.ipynb>data table notebook</a>'\n",
       "            + ' to learn more about interactive tables.';\n",
       "          element.innerHTML = '';\n",
       "          dataTable['output_type'] = 'display_data';\n",
       "          await google.colab.output.renderOutput(dataTable, element);\n",
       "          const docLink = document.createElement('div');\n",
       "          docLink.innerHTML = docLinkHtml;\n",
       "          element.appendChild(docLink);\n",
       "        }\n",
       "      </script>\n",
       "    </div>\n",
       "  </div>\n",
       "  "
      ],
      "text/plain": [
       "                   SPY        EFA        IEF        DBC        VNQ  cash\n",
       "Date                                                                    \n",
       "2010-01-04  113.330002  56.730000  88.820000  25.240000  44.549999     1\n",
       "2010-01-05  113.629997  56.779999  89.209999  25.270000  44.500000     1\n",
       "2010-01-06  113.709999  57.020000  88.849998  25.719999  44.419998     1\n",
       "2010-01-07  114.190002  56.799999  88.849998  25.400000  44.900002     1\n",
       "2010-01-08  114.570000  57.250000  88.959999  25.379999  44.570000     1\n",
       "...                ...        ...        ...        ...        ...   ...\n",
       "2022-10-25  384.920013  59.279999  94.180000  25.090000  81.209999     1\n",
       "2022-10-26  382.019989  59.840000  94.660004  25.559999  81.160004     1\n",
       "2022-10-27  379.980011  59.279999  95.330002  25.600000  81.279999     1\n",
       "2022-10-28  389.019989  59.869999  94.839996  25.299999  83.070000     1\n",
       "2022-10-31  386.209991  59.310001  94.410004  25.120001  82.980003     1\n",
       "\n",
       "[3230 rows x 6 columns]"
      ]
     },
     "execution_count": 28,
     "metadata": {},
     "output_type": "execute_result"
    }
   ],
   "source": [
    "SPY = getCloseDataPandas(\"SPY\",start, end) #1\n",
    "EFA = getCloseDataPandas(\"EFA\",start, end) #2\n",
    "IEF = getCloseDataPandas(\"IEF\",start, end) #3\n",
    "DBC = getCloseDataPandas(\"DBC\",start, end) #4\n",
    "VNQ = getCloseDataPandas(\"VNQ\",start, end)#5\n",
    "\n",
    "\n",
    "\n",
    "closeDataSet = pd.concat([SPY, EFA,IEF,DBC,VNQ], axis=1)\n",
    "closeDataSet.columns = [\"SPY\",\"EFA\",\"IEF\",\"DBC\",\"VNQ\"]\n",
    "closeDataSet['cash'] =1\n",
    "closeDataSet.dropna(inplace=True)\n",
    "closeDataSet"
   ]
  },
  {
   "cell_type": "code",
   "execution_count": 29,
   "metadata": {
    "executionInfo": {
     "elapsed": 5,
     "status": "ok",
     "timestamp": 1667851027966,
     "user": {
      "displayName": "yewon choi",
      "userId": "13185614265759869235"
     },
     "user_tz": -540
    },
    "id": "FfuifwGjL6Cn"
   },
   "outputs": [],
   "source": [
    "rebalDate = getRebalancingDate(closeDataSet) #rebalancing_date\n",
    "priceOnRebalDate = closeDataSet.loc[rebalDate] #rebal_close_data"
   ]
  },
  {
   "cell_type": "code",
   "execution_count": 30,
   "metadata": {
    "executionInfo": {
     "elapsed": 4,
     "status": "ok",
     "timestamp": 1667851027966,
     "user": {
      "displayName": "yewon choi",
      "userId": "13185614265759869235"
     },
     "user_tz": -540
    },
    "id": "RgPy4FYxUSoK"
   },
   "outputs": [],
   "source": [
    "weight = priceOnRebalDate.copy()\n",
    "final_weight = pd.DataFrame( index = priceOnRebalDate.index, columns=closeDataSet.columns)\n",
    "\n",
    "\n",
    "weight['mthavg_SPY'] = (weight['SPY'].shift(1)+weight['SPY'].shift(2)+weight['SPY'].shift(3)+weight['SPY'].shift(4)+weight['SPY'].shift(5)+weight['SPY'].shift(6)+weight['SPY'].shift(7)+weight['SPY'].shift(8)+weight['SPY'].shift(9)+weight['SPY'].shift(10))/10\n",
    "weight['mthavg_EFA'] = (weight['EFA'].shift(1)+weight['EFA'].shift(2)+weight['EFA'].shift(3)+weight['EFA'].shift(4)+weight['EFA'].shift(5)+weight['EFA'].shift(6)+weight['EFA'].shift(7)+weight['EFA'].shift(8)+weight['EFA'].shift(9)+weight['EFA'].shift(10))/10\n",
    "weight['mthavg_IEF'] = (weight['IEF'].shift(1)+weight['IEF'].shift(2)+weight['IEF'].shift(3)+weight['IEF'].shift(4)+weight['IEF'].shift(5)+weight['IEF'].shift(6)+weight['IEF'].shift(7)+weight['IEF'].shift(8)+weight['IEF'].shift(9)+weight['IEF'].shift(10))/10\n",
    "weight['mthavg_DBC'] = (weight['DBC'].shift(1)+weight['DBC'].shift(2)+weight['DBC'].shift(3)+weight['DBC'].shift(4)+weight['DBC'].shift(5)+weight['DBC'].shift(6)+weight['DBC'].shift(7)+weight['DBC'].shift(8)+weight['DBC'].shift(9)+weight['DBC'].shift(10))/10\n",
    "weight['mthavg_VNQ'] = (weight['VNQ'].shift(1)+weight['VNQ'].shift(2)+weight['VNQ'].shift(3)+weight['VNQ'].shift(4)+weight['VNQ'].shift(5)+weight['VNQ'].shift(6)+weight['VNQ'].shift(7)+weight['VNQ'].shift(8)+weight['VNQ'].shift(9)+weight['VNQ'].shift(10))/10\n",
    "\n",
    "final_weight['SPY'] = np.where(weight['mthavg_SPY']>weight['SPY'] , 20,0)\n",
    "final_weight['EFA'] = np.where(weight['mthavg_EFA']>weight['EFA'] , 20,0)\n",
    "final_weight['IEF'] = np.where(weight['mthavg_IEF']>weight['IEF'] , 20,0)\n",
    "final_weight['DBC'] = np.where(weight['mthavg_DBC']>weight['DBC'] , 20,0)\n",
    "final_weight['VNQ'] = np.where(weight['mthavg_VNQ']>weight['VNQ'] , 20,0)\n"
   ]
  },
  {
   "cell_type": "code",
   "execution_count": 31,
   "metadata": {
    "executionInfo": {
     "elapsed": 4,
     "status": "ok",
     "timestamp": 1667851027967,
     "user": {
      "displayName": "yewon choi",
      "userId": "13185614265759869235"
     },
     "user_tz": -540
    },
    "id": "oFhe2TxTML2B"
   },
   "outputs": [],
   "source": [
    "final_weight['cash'] = 100-(final_weight['SPY']+final_weight['EFA']+final_weight['IEF']+final_weight['DBC']+final_weight['VNQ'])"
   ]
  },
  {
   "cell_type": "code",
   "execution_count": 32,
   "metadata": {
    "executionInfo": {
     "elapsed": 2,
     "status": "ok",
     "timestamp": 1667851028987,
     "user": {
      "displayName": "yewon choi",
      "userId": "13185614265759869235"
     },
     "user_tz": -540
    },
    "id": "hW-0d2-NlGOF"
   },
   "outputs": [],
   "source": [
    "final_weight = final_weight *(1/100)"
   ]
  },
  {
   "cell_type": "code",
   "execution_count": 33,
   "metadata": {
    "colab": {
     "base_uri": "https://localhost:8080/"
    },
    "executionInfo": {
     "elapsed": 467,
     "status": "ok",
     "timestamp": 1667851030556,
     "user": {
      "displayName": "yewon choi",
      "userId": "13185614265759869235"
     },
     "user_tz": -540
    },
    "id": "Zl51bc1vMz5n",
    "outputId": "59f41ec5-c24b-499a-9649-918aa3042683"
   },
   "outputs": [
    {
     "name": "stdout",
     "output_type": "stream",
     "text": [
      "최종 수익률: 0.41695321704395516\n",
      "cagr: 0.9336705296613286\n",
      "mdd: 60.12009691982566\n"
     ]
    }
   ],
   "source": [
    "_, CumReturn = getRebalancingPortfolioResult(closeDataSet=closeDataSet,weightDf=final_weight)\n",
    "cagr, dd, mdd = getEvaluation(CumReturn)"
   ]
  },
  {
   "cell_type": "code",
   "execution_count": 35,
   "metadata": {
    "colab": {
     "base_uri": "https://localhost:8080/",
     "height": 642
    },
    "executionInfo": {
     "elapsed": 1107,
     "status": "ok",
     "timestamp": 1667851339135,
     "user": {
      "displayName": "yewon choi",
      "userId": "13185614265759869235"
     },
     "user_tz": -540
    },
    "id": "JEFDzkGfNXQJ",
    "outputId": "f731e315-b4ff-460c-bbe7-41c7a880af96"
   },
   "outputs": [
    {
     "data": {
      "image/png": "[encoded data removed]",
      "text/plain": [
       "<Figure size 1440x1152 with 2 Axes>"
      ]
     },
     "metadata": {
      "needs_background": "light"
     },
     "output_type": "display_data"
    }
   ],
   "source": [
    "plt.rc('font', family='malgun gothic')\n",
    "plt.rcParams['axes.unicode_minus'] = False\n",
    "plt.figure(figsize=(20,16))\n",
    "\n",
    "# 수익곡선\n",
    "plt.subplot(2,1,1)\n",
    "CumReturn.plot(label=\"cumReturn\")\n",
    "plt.legend(fontsize=20)\n",
    "\n",
    "# dd 곡선\n",
    "plt.subplot(2,1,2)\n",
    "(-dd).plot(label=\"dd\")\n",
    "plt.legend(fontsize=20)\n",
    "\n",
    "plt.show()"
   ]
  },
  {
   "cell_type": "code",
   "execution_count": null,
   "metadata": {
    "id": "caCfu6MsNnPL"
   },
   "outputs": [],
   "source": []
  }
 ],
 "metadata": {
  "colab": {
   "authorship_tag": "ABX9TyPjNM1QDj2KfjjTvSKw05x7",
   "collapsed_sections": [],
   "provenance": []
  },
  "kernelspec": {
   "display_name": "Python 3 (ipykernel)",
   "language": "python",
   "name": "python3"
  },
  "language_info": {
   "codemirror_mode": {
    "name": "ipython",
    "version": 3
   },
   "file_extension": ".py",
   "mimetype": "text/x-python",
   "name": "python",
   "nbconvert_exporter": "python",
   "pygments_lexer": "ipython3",
   "version": "3.9.12"
  }
 },
 "nbformat": 4,
 "nbformat_minor": 1
}
